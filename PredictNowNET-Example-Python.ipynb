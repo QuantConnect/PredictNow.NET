{
 "cells": [
  {
   "cell_type": "markdown",
   "id": "e64ffc91-0f0c-4ecf-9431-2e88553f3207",
   "metadata": {},
   "source": [
    "### Demo Notebook For CPO 2.0 API\n",
    "This notebook presents how to connect to the CPO 2.0 API, manage files, set up parameters and request predictions. It also covers the requirement on and format of input data."
   ]
  },
  {
   "cell_type": "code",
   "execution_count": 1,
   "id": "44ddec07-6391-48cb-a631-087c4e87ded6",
   "metadata": {
    "tags": []
   },
   "outputs": [],
   "source": [
    "from AlgorithmImports import *"
   ]
  },
  {
   "cell_type": "code",
   "execution_count": 2,
   "id": "782c48a9-e684-4661-82a0-a74a94f1da5b",
   "metadata": {},
   "outputs": [],
   "source": [
    "from QuantConnect.PredictNowNET import PredictNowClient\n",
    "from QuantConnect.PredictNowNET.Models import *"
   ]
  },
  {
   "cell_type": "code",
   "execution_count": 3,
   "id": "36ed55fd-5ec7-42ed-827b-f24bdf0fa01d",
   "metadata": {
    "tags": []
   },
   "outputs": [
    {
     "data": {
      "text/plain": [
       "True"
      ]
     },
     "execution_count": 3,
     "metadata": {},
     "output_type": "execute_result"
    }
   ],
   "source": [
    "Config.Set(\"predict-now-url\", \"http://localhost:5005/\")\n",
    "userEmail = \"me@office.com\"\n",
    "client = PredictNowClient(userEmail)\n",
    "client.Connected"
   ]
  },
  {
   "cell_type": "markdown",
   "id": "7825e1d6-f5f4-4f3c-bc9d-543feaab7b14",
   "metadata": {},
   "source": [
    "### Uploading Data\n",
    "CPO requires daily returns data and constraints on each portfolio components as inputs. User can also upload additional features. These data are stored in separate directories under the client's account. If a new data file is re-uploaded under the same file name, the existing file will be overwritten. This can be used to update the return file for live predictions.\n",
    "\n",
    "#### Return File\n",
    "Return file should contain daily return of all or a superset of the components in the portfolio universe, with `return(t) = close(t) / close(t-1) - 1.0`. The return file should have a `Date` (alias `tradedate`, `time`, `timestamp`, `datetime`) column for indexing purposes, and the desired format is `yyyy-mm-dd`. Upon uploading the return file, CPO API will identify the `Date` column and provides feedbacks on the start- and end-dates so user can check if the processing is successful. User can upload multiple return files but only one return file can be used for each portfolio.\n",
    "\n",
    "CPO API will take all other columns as daily returns of portfolio components. NaNs and zeros and treated differently for these return columns. To be specific, NaNs are for historical period when the ticker *does not exist*, while zeros are taken as *real zero returns* (e.g. due to holidays). *Please contact PredictNow if your return data is sparse.*\n",
    "\n",
    "The following code upload the `ETF_return.csv` file from the `Data` directory, then list all available return files under the account."
   ]
  },
  {
   "cell_type": "code",
   "execution_count": 4,
   "id": "99bb738b-80c1-48f2-972a-a0d7f2446e43",
   "metadata": {},
   "outputs": [
    {
     "data": {
      "text/plain": [
       "'Date info from date with 16 return columns. Index range between 2010-01-04 and 2023-03-03.'"
      ]
     },
     "execution_count": 4,
     "metadata": {},
     "output_type": "execute_result"
    }
   ],
   "source": [
    "filename = os.path.join(\"..\", \"..\", \"..\", \"Tests\", \"Data\", \"ETF_return.csv\")\n",
    "message = client.UploadReturnsFile(filename)\n",
    "message"
   ]
  },
  {
   "cell_type": "code",
   "execution_count": 5,
   "id": "507d12b1-dcfc-40dd-b755-63c40cbc3e44",
   "metadata": {},
   "outputs": [
    {
     "data": {
      "text/plain": [
       "'ETF_return.csv,ETF_return2.csv,ETF_return99.csv,CUsersAlexPredictNowNETTestsbinDebugnet6.0DataETF_return.csv,Returns.csv'"
      ]
     },
     "execution_count": 5,
     "metadata": {},
     "output_type": "execute_result"
    }
   ],
   "source": [
    "# List the files\n",
    "files = client.ListReturnsFiles()\n",
    "','.join(files)"
   ]
  },
  {
   "cell_type": "markdown",
   "id": "34ec3143-5d3c-4605-a712-6c7acf6d7c30",
   "metadata": {},
   "source": [
    "#### Constrain files\n",
    "The constraint file defines the portfolio universe and the upper and lower boundaries (min and max allocation) of each components. There should be a `component` column for the component names, and these names should also be a subset of the return columns of the return file to be used. The column names are case sensitive. The upper and lower boundaries of each component should be given in the `UB` and `LB` columns, and their default values are 0.0 (0%) and 1.0 (100%) if not provided for a given component. Each user can upload multiple constraint files under different names, but only one constraint file can be used for each portfoio.\n",
    "\n",
    "The following code upload the `ETF_constrain.csv` file from the `Data` directory, then list all available constraint files under the account. Note that `ETF_constrain.csv` contains fewer components than the `ETF_return.csv` file, in which case the additional ETFs will not be used to construct the portfolio."
   ]
  },
  {
   "cell_type": "code",
   "execution_count": 6,
   "id": "d62b2b57-3b93-46c3-9eca-7c6babf44b89",
   "metadata": {},
   "outputs": [
    {
     "data": {
      "text/plain": [
       "'Constraint file processed for 6 components'"
      ]
     },
     "execution_count": 6,
     "metadata": {},
     "output_type": "execute_result"
    }
   ],
   "source": [
    "filename = os.path.join(\"..\", \"..\", \"..\", \"Tests\", \"Data\", \"ETF_constrain.csv\")\n",
    "message = client.UploadConstraintFile(filename)\n",
    "message"
   ]
  },
  {
   "cell_type": "code",
   "execution_count": 7,
   "id": "8cbc2ee0-0fa7-4175-8fad-3fe839d01b47",
   "metadata": {},
   "outputs": [
    {
     "data": {
      "text/plain": [
       "'ETF_constrain.csv,Constraint.csv'"
      ]
     },
     "execution_count": 7,
     "metadata": {},
     "output_type": "execute_result"
    }
   ],
   "source": [
    "# List the files\n",
    "files = client.ListConstraintFiles()\n",
    "','.join(files)"
   ]
  },
  {
   "cell_type": "markdown",
   "id": "fd17a539-76c3-4b03-a4fd-3505b68c7fd6",
   "metadata": {},
   "source": [
    "#### Feature files (Optional)\n",
    "\n",
    "User can provide additional feature files to help prediction. Feature files are time-series files just like returns, so the key column is also `Date` (alias `tradedate`, `time`, `timestamp`, `datetime`). The desired format is `yyyy-mm-dd` for the ease of auto-processing. The clinet's features are merged with pre-engineered features at PredictNow by matching the `Date` column, and CPO API assumes all features are available before the open of market of the target date. All features are forward filled (using the latest one that is available) before training. User can upload multiple feature files.\n",
    "\n",
    "The following code upload the `Random_Feature.csv` file from the `Data` directory, then list all available client feauture files under the account. The uploaded feature are randomly generated and should not provide any prediction power."
   ]
  },
  {
   "cell_type": "code",
   "execution_count": 8,
   "id": "40e99d6b-0266-4ba3-8414-92659e7fb895",
   "metadata": {},
   "outputs": [
    {
     "data": {
      "text/plain": [
       "'Date info from TradeDate with 4 return columns. Index range between 2015-01-02 and 2022-08-02.'"
      ]
     },
     "execution_count": 8,
     "metadata": {},
     "output_type": "execute_result"
    }
   ],
   "source": [
    "filename = os.path.join(\"..\", \"..\", \"..\", \"Tests\", \"Data\", \"Random_Feature.csv\")\n",
    "message = client.UploadFeaturesFile(filename)\n",
    "message"
   ]
  },
  {
   "cell_type": "code",
   "execution_count": 9,
   "id": "795102ab-b71d-4122-8d63-f45565626085",
   "metadata": {},
   "outputs": [
    {
     "data": {
      "text/plain": [
       "'Random_Feature.csv,features.csv'"
      ]
     },
     "execution_count": 9,
     "metadata": {},
     "output_type": "execute_result"
    }
   ],
   "source": [
    "# List the files\n",
    "files = client.ListFeaturesFiles()\n",
    "','.join(files)"
   ]
  },
  {
   "cell_type": "markdown",
   "id": "c25bba93-41cb-4498-8956-521a73ff16f9",
   "metadata": {},
   "source": [
    "### Parameters\n",
    "\n",
    "There are certain parameters that are required to run a CPO job, and these parameters generally fall into two categoraries: a) those define the property of the target portfolio, like what components are included, how often it is rebalanced, what is the metric to rebalanced etc., and b) parameter that define the job, like what period of time should be used as in-sample, or what is the target date for a live prediction. \n",
    "\n",
    "This section focuses on the first part of the parameters, while the job-related parameters will be described in later sections. But before diving into the parameters, we will talke about the important idea of *project* in CPO API.\n",
    "\n",
    "#### Project\n",
    "\n",
    "CPO is designed to determine the allocation of a portfolio during each rebalancing, but not for ticker selection or tune the optimized rebalancing frequency. These configurations are like hyper-parameters of the portfolio, and users can use projects to test different portfolio configurations like:\n",
    "\n",
    "- What if I do weekly rebalancing instead of monthly rebalancing?\n",
    "- What if I lower the max allocation of some high-risk components and allow certain amount of Cash allocation?\n",
    "- What if I include additional features that I think might be helpful?\n",
    "etc.\n",
    "\n",
    "In short, each project corresponds to a specific portfolio set up that is defined by the portfolio parameters.\n",
    "\n",
    "#### Portfolio parameters\n",
    "The following parameters define the portfolio and should be fixed for a given project throughthout in-sample, out-of-sample, and live-prediction. \n",
    "\n",
    "- `name`, mandatory, project / portfolio identification, e.g. `Demo_Project`\n",
    "- `returnsFile`, mandatory, daily return filename, should be uploaded first, e.g. `ETF_return.csv`\n",
    "- `constraintFile`, mandatory, portfolio components and their min and max allocations, should be uploaded first, e.g. `ETF_constraint.csv`. Note it's the `component` column in the `constraint_file` that defines the current portfolio universe.\n",
    "- `maxCash`, mandatory, maximum cash allocation allowed when risk is predicted to be large, float between 0 and 1 where 1 correspond to 100% (no market exposure).\n",
    "- `rebalancingPeriodUnit`, mandatory, 'week' or 'month', used with `rebalancingPeriod`.\n",
    "- `rebalancingPeriod`, mandatory, int. If `rebalancingPeriod = 2` and `rebalancingPeriodUnit = 'week'`, the portfolio would rebalanced every other week.\n",
    "- `rebalanceOn`, mandatory, 'first' or 'last', determine if the portfolio is rebalanced at the close of the first or last market day of the rebalancing period. Please see next subsection on how the dates are indexed in CPO.\n",
    "- `trainingDataSize`, mandatory, int, in the unit of years, size of rolling window that is used to make the prediction for each rebalancing.\n",
    "- `evaluationMetric`, mandatory, key performance metric to optimize, can be chosen from 'return', 'risk', 'sharpe', 'CAGR', 'UI', 'UPI', or 'MaxDD'. For risk related metrics, i.e. 'risk', 'UI', and 'MaxDD', `max_cash` will be overridden since Cash will always have zero and hence the minimal risk.\n",
    "- `featureFile`, optional, 'none' or 'feature_file1.csv, feature_file2.csv, ...', clinet feature to be included, and these files should be uploaded first.\n",
    "- `skipPNowFeature`, optional, if set to 'yes', 'true', or 'skip', will not include predictnow features. Note, if `feature_file` is not provided (`none` or not in the parameter dictionary) there would be no X-columns in the prediction model.\n",
    "\n",
    "The code below gives how to set up the portfolio parameters, with some optional ones commented out."
   ]
  },
  {
   "cell_type": "code",
   "execution_count": 10,
   "id": "cbad9120-09dd-473e-b91b-f60c203322a0",
   "metadata": {},
   "outputs": [],
   "source": [
    "portfolioParameters = PortfolioParameters(\n",
    "    name= \"Demo_Project_20231211\",\n",
    "    returnsFile= \"ETF_return.csv\",\n",
    "    constraintFile= \"ETF_constrain.csv\",\n",
    "    maxCash= 1.0,\n",
    "    rebalancingPeriodUnit= \"month\",\n",
    "    rebalancingPeriod= 1,\n",
    "    rebalanceOn= \"first\",\n",
    "    trainingDataSize= 3,\n",
    "    evaluationMetric= \"sharpe\")"
   ]
  },
  {
   "cell_type": "markdown",
   "id": "9e6a2ea2-cef5-428e-bea2-6517fd44c929",
   "metadata": {},
   "source": [
    "#### Additional Notes on how CPO Handles Date index\n",
    "There are two sets of date that are tightly related to each other, the rebalance period, and the rebalancing date.\n",
    "\n",
    "Rebalance period is usually labelled by the first calendar day within the period, regardless of if it is a valid market day. The start date of the first rebalancing period is taken from the `trainingStartDate` when in-sample or out-of-sample backtesting is requested. After that, the enxt start date would be the previous start date plus the date offset of the rebalancing period (e.g. 1 months, 2 weeks etc.). These dates are for indexing purposes, especially for CPO API to store and manage data files for each rebalancing period. The back-testing experiment will stop when the start date of the rebalancing period is larger than the `trainingEndDate`. \n",
    "\n",
    "The start date of a rebalancing period can be any calendar day and may not be an effective rebalancing (market) day. To determine the actual rebalancing date of the rebalancing period, CPO requires the knowledge on when the rebalancing should take place, i.e. the `rebalane_on` parameter. If `rebalance_on` is set to 'first', then CPO will use the first marketday within the rebalancing period; otherwise if `rebalance_on` is set to 'last', then the rebalancing date will be taken from the last market day of the PREVIOUS rebalancing period."
   ]
  },
  {
   "cell_type": "markdown",
   "id": "ec5540f4-5bc1-432f-b052-afd71629a0d6",
   "metadata": {},
   "source": [
    "### Backtesting\n",
    "\n",
    "Backtesting can be further divided into in-sample and out-of-sample backtestings. CPO uses the in-sample period to tune hyper-parameters of the prediction system, including selection of candidate strategies, type of prediction model to be used, and aggregation function that turns predictions into final recommendations. The tuned hyper-parameters will be saved, and user can use out-of-sample period to verify if CPO continuous to add values. Both in-sample and out-of-sample backtesting jobs require some additional parameters then those defined the portfolio.\n",
    "\n",
    "#### In-sample backtesting\n",
    "\n",
    "In-sample backtesting is used to determine the hyper-parameters of the CPO system. The parameters required for in-sample backtesting include:\n",
    "- `trainingStartDate`, mandatory, datetime, the start date of the first rebalancing period to be included in the experiment. \n",
    "- `trainingEndDate`, mandatory, datetime, the experiment terminates when the start of the period exceed the `trainingEndDate`.\n",
    "- `samplingProportion`, mandatory, float between 0 and 1, the fraction of base strategies to be kept. This parameter is usually set to 0.3 or 0.4.\n",
    "- `debug`, optional, will output more information in the backend when set to `debug`, and will not affect the performance or prediction.\n",
    "\n",
    "The following code submit an in-sample backtesing job between Jan and Dec 2023 for the demo portfolio defined earlier."
   ]
  },
  {
   "cell_type": "code",
   "execution_count": 11,
   "id": "985be02e-60d1-4b18-a0f3-89aa6f8fa33a",
   "metadata": {},
   "outputs": [
    {
     "name": "stdout",
     "output_type": "stream",
     "text": [
      "job submitted for cpo in-sample backtesting.: Id 28d43286-cf7f-4150-ae68-85ce09b7bdc2\n"
     ]
    }
   ],
   "source": [
    "inSampleResult = client.RunInSampleBacktest(\n",
    "    portfolioParameters,\n",
    "    trainingStartDate= datetime(2019, 1, 1),\n",
    "    trainingEndDate= datetime(2019, 12, 31),\n",
    "    samplingProportion= 0.3,\n",
    "    debug= \"debug\")\n",
    "print(inSampleResult)"
   ]
  },
  {
   "cell_type": "markdown",
   "id": "c3b816e5-bc67-412a-a17a-ce46e13223e0",
   "metadata": {},
   "source": [
    "#### Time cost of in-sample backtesting\n",
    "It can take 20 - 30 min for each rebalancing period within the in-sample period, depending on no. of components in the portfolio, size of training data, and the sampling proportion. The time cost can add up quickly when the test includes many rebalancing period, eithor due to more frequently rebalancing (e.g. weekly) or longer testing period. User can use the `get-cpo-job-status` function to check current status. CPO API will return the performance metrics of the tuned model after the job is finished, and the corresponding allocations will be sent to user's email. These weights can be loaded using a separate function as well, see later section.\n",
    "\n",
    "It is also possible that, due to the long-running nature of the back-testing jobs (both in-sample and out-of-sample), there could be connection errors that create a breaking point. In that case, **simply re-submit the training request without chaning any parameters.** There is breaking-point handling modules in CPO API that record the progress and will continue the job from the most recent breaking point. This is true for both in-sample and out-of-sample backtesting.\n",
    "\n",
    "The following code check the progress of the back-testing submited, and output the performance if job is finished."
   ]
  },
  {
   "cell_type": "code",
   "execution_count": 12,
   "id": "471dc8e2-3753-4d94-8688-427cc6b15694",
   "metadata": {},
   "outputs": [
    {
     "name": "stdout",
     "output_type": "stream",
     "text": [
      "{\"cpo_job_id\":\"28d43286-cf7f-4150-ae68-85ce09b7bdc2\",\"cpo_job_status\":\"PENDING\",\"cpo_result\":\"{\\\"return\\\":0.0,\\\"risk\\\":0.0,\\\"sharpe\\\":0.0,\\\"CAGR\\\":0.0,\\\"UI\\\":0.0,\\\"UPI\\\":0.0,\\\"MaxDD\\\":0.0}\",\"progress\":\"{\\\"step\\\":2,\\\"progress\\\":\\\"Training models\\\"}\"}\n"
     ]
    }
   ],
   "source": [
    "# Check status\n",
    "job = client.GetJobForId(inSampleResult.Id)\n",
    "print(job)"
   ]
  },
  {
   "cell_type": "markdown",
   "id": "68fb890f-b869-4f8d-a421-36711f9f8fb8",
   "metadata": {},
   "source": [
    "#### Out of Sample Backteting\n",
    "\n",
    "Out of sample backtesting simply applies the hyper-parameters tuned during in-sample periods and test if they continue to add value over a different time period. That means, out-of-sample test can only be run after in-sample tuning is finished. The required input parameters are `trainingStartDate` and `trainingEndDate`, with the same definition and format as in-sample backtesting.\n",
    "\n",
    "It is important to keep the `trainingStartDate` parameters have the same format for in-sample and out-of-sample tests. For this example we are working on a portfolio that takes monthly rebalance on the first market day of the month, so we will keep `trainingStartDate` to the 1st of the month in OOS. Similarly, if in-sample test starts on a Monday for a weekly rebalanced portfolio, the OOS should start on the next Monday as well. \n",
    "\n",
    "OOS test generally runs faster than in-sample because there are fewer models to be run, but may still take 15 min for each rebalancing period.\n",
    "\n",
    "The following code submits an out-of-sample job for the demo portfolio between Jan and Jun 2022. The prediction will be made using configurations determined during in-sample testing."
   ]
  },
  {
   "cell_type": "code",
   "execution_count": 13,
   "id": "ddfa61d1-56f7-474b-9f0b-5b1aea8ee773",
   "metadata": {},
   "outputs": [
    {
     "name": "stdout",
     "output_type": "stream",
     "text": [
      "job submitted for cpo back-testing.: Id ece34328-bb38-4ce2-a791-a56d9e947015\n"
     ]
    }
   ],
   "source": [
    "outOfSampleResult = client.RunOutOfSampleBacktest(\n",
    "    portfolioParameters,\n",
    "    trainingStartDate= datetime(2019, 1, 1),\n",
    "    trainingEndDate= datetime(2019, 12, 31),\n",
    "    debug= \"debug\");\n",
    "print(outOfSampleResult)"
   ]
  },
  {
   "cell_type": "code",
   "execution_count": 14,
   "id": "27bd01a7-c468-40b9-87aa-8196b6410115",
   "metadata": {},
   "outputs": [
    {
     "name": "stdout",
     "output_type": "stream",
     "text": [
      "{\"cpo_job_id\":\"ece34328-bb38-4ce2-a791-a56d9e947015\",\"cpo_job_status\":\"PENDING\",\"cpo_result\":\"{\\\"return\\\":0.0,\\\"risk\\\":0.0,\\\"sharpe\\\":0.0,\\\"CAGR\\\":0.0,\\\"UI\\\":0.0,\\\"UPI\\\":0.0,\\\"MaxDD\\\":0.0}\",\"progress\":\"{\\\"step\\\":1,\\\"progress\\\":\\\"Training models\\\"}\"}\n"
     ]
    }
   ],
   "source": [
    "# Dheck status\n",
    "job = client.GetJobForId(outOfSampleResult.Id)\n",
    "print(job)"
   ]
  },
  {
   "cell_type": "markdown",
   "id": "b6579846-b399-4efb-9c3a-1fd29718e31a",
   "metadata": {},
   "source": [
    "#### Load Backtesting Results\n",
    "\n",
    "The predictions generated during in-sample and out-of-sample backtesting experiments are stored on CPO API. Users can request these results for in-sample, out-of-sample, or combined. The key parameters are, again, `trainingStartDate` and `trainingEndDate`.\n",
    "\n",
    "The following requests the CPO allocations and its performance for the entire back-testing period (in-sample + out-of-sample)."
   ]
  },
  {
   "cell_type": "code",
   "execution_count": 15,
   "id": "fbf1a23a-64ee-4ef1-80c9-ab3e7fa73ab7",
   "metadata": {},
   "outputs": [
    {
     "data": {
      "text/plain": [
       "{datetime.datetime(2019, 1, 2, 0, 0): {'SPY': 0.0539468147,\n",
       "  'QQQ': 0.0346698355,\n",
       "  'VNQ': 0.0331834347,\n",
       "  'REM': 0.1002935535,\n",
       "  'IEF': 0.2798133149,\n",
       "  'TLT': 0.1904534153},\n",
       " datetime.datetime(2019, 2, 1, 0, 0): {'SPY': 0.0446511781,\n",
       "  'QQQ': 0.039910024,\n",
       "  'VNQ': 0.0463260017,\n",
       "  'REM': 0.0524557947,\n",
       "  'IEF': 0.1055622018,\n",
       "  'TLT': 0.0640442022},\n",
       " datetime.datetime(2019, 3, 1, 0, 0): {'SPY': 0.07094082,\n",
       "  'QQQ': 0.0683798591,\n",
       "  'VNQ': 0.0799032846,\n",
       "  'REM': 0.1146294247,\n",
       "  'IEF': 0.2425103942,\n",
       "  'TLT': 0.110000258},\n",
       " datetime.datetime(2019, 4, 1, 0, 0): {'SPY': 0.1144147092,\n",
       "  'QQQ': 0.0295901664,\n",
       "  'VNQ': 0.0388845672,\n",
       "  'REM': 0.0624777368,\n",
       "  'IEF': 0.2810866834,\n",
       "  'TLT': 0.0631862648},\n",
       " datetime.datetime(2019, 5, 1, 0, 0): {'SPY': 0.0220024309,\n",
       "  'QQQ': 0.085172843,\n",
       "  'VNQ': 0.0,\n",
       "  'REM': 0.0464939378,\n",
       "  'IEF': 0.1739488572,\n",
       "  'TLT': 0.0202796455},\n",
       " datetime.datetime(2019, 6, 3, 0, 0): {'SPY': 0.1345840708,\n",
       "  'QQQ': 0.0807885174,\n",
       "  'VNQ': 0.0556767002,\n",
       "  'REM': 0.0696000078,\n",
       "  'IEF': 0.4032896738,\n",
       "  'TLT': 0.2560610299},\n",
       " datetime.datetime(2019, 7, 1, 0, 0): {'SPY': 0.1044118656,\n",
       "  'QQQ': 0.0308209834,\n",
       "  'VNQ': 0.0308209834,\n",
       "  'REM': 0.0352558398,\n",
       "  'IEF': 0.2014542724,\n",
       "  'TLT': 0.1234285339},\n",
       " datetime.datetime(2019, 8, 1, 0, 0): {'SPY': 0.080825333,\n",
       "  'QQQ': 0.0217590672,\n",
       "  'VNQ': 2.201030366e-20,\n",
       "  'REM': 0.150314591,\n",
       "  'IEF': 0.1864209511,\n",
       "  'TLT': 0.0161788184},\n",
       " datetime.datetime(2019, 9, 3, 0, 0): {'SPY': 0.0556821061,\n",
       "  'QQQ': 0.053568495,\n",
       "  'VNQ': 0.0733993034,\n",
       "  'REM': 0.0665357219,\n",
       "  'IEF': 0.1423674909,\n",
       "  'TLT': 0.1365604066},\n",
       " datetime.datetime(2019, 10, 1, 0, 0): {'SPY': 0.1303359727,\n",
       "  'QQQ': 0.0385461294,\n",
       "  'VNQ': 0.1201818964,\n",
       "  'REM': 0.1446408029,\n",
       "  'IEF': 0.2664095959,\n",
       "  'TLT': 0.1489831939},\n",
       " datetime.datetime(2019, 11, 1, 0, 0): {'SPY': 0.0401602358,\n",
       "  'QQQ': 0.0292741935,\n",
       "  'VNQ': 0.0110003924,\n",
       "  'REM': 0.1232162198,\n",
       "  'IEF': 0.2080889046,\n",
       "  'TLT': 0.0265702144},\n",
       " datetime.datetime(2019, 12, 2, 0, 0): {'SPY': 0.048315907,\n",
       "  'QQQ': 0.1021682334,\n",
       "  'VNQ': 0.0269679034,\n",
       "  'REM': 0.1319869795,\n",
       "  'IEF': 0.166060911,\n",
       "  'TLT': 0.0408145264}}"
      ]
     },
     "execution_count": 15,
     "metadata": {},
     "output_type": "execute_result"
    }
   ],
   "source": [
    "weightsByDate = client.GetBacktestWeights(\n",
    "    portfolioParameters, \n",
    "    trainingStartDate= datetime(2019, 1, 1), \n",
    "    trainingEndDate= datetime(2019, 12, 31),\n",
    "    debug= \"debug\")\n",
    "weightsByDate"
   ]
  },
  {
   "cell_type": "code",
   "execution_count": 16,
   "id": "0c4e9c51-360b-4192-bf36-d12810bdcaaf",
   "metadata": {},
   "outputs": [
    {
     "name": "stdout",
     "output_type": "stream",
     "text": [
      "{\"return\":0.09808653639533395,\"risk\":0.030395491877785306,\"sharpe\":3.2270093469690146,\"CAGR\":0.10252805795293685,\"UI\":0.30773793331371724,\"UPI\":31.873398036809977,\"MaxDD\":0.016158762466234027}\n"
     ]
    }
   ],
   "source": [
    "performance = client.GetBacktestPerformance(\n",
    "    portfolioParameters, \n",
    "    trainingStartDate= datetime(2019, 1, 1), \n",
    "    trainingEndDate= datetime(2019, 12, 31),\n",
    "    debug= \"debug\");\n",
    "print(performance)"
   ]
  },
  {
   "cell_type": "markdown",
   "id": "84e40a7b-1783-4588-a9a4-86b931a85002",
   "metadata": {},
   "source": [
    "### Live Prediction\n",
    "\n",
    "Live prediction means to use the tuned hyper-parameter to make prediction for an incoming rebalancing period. Live prediction requires the knowledge of a) the target rebalancing date, and b) the prediction horizon, i.e. how many market days are there in the incoming rebalancing period. User can provide the informaion using the following parameters:\n",
    "\n",
    "- `rebalanceDate`, mandatory, DateTime, the target rebalance date.\n",
    "- `nextRebalanceDate`, optional, DateTime, the next rebalance date after current target date. For example, for a weekly-rebalanced portfolio, if the `rebalanceDate` is set to '2023-10-02', the `nextRebalanceDate` would be Monday '2023-10-09'. If `nextRebalanceDate` is passed, CPO will use US market calendar to determine how many market days are there in the target rebalancing period.\n",
    "- `marketDays`, optional, int, the number of market days in the incoming rebalancing period. For a weekly rebalanced portfolio, `marketDays` is usually 5 unless there is a holiday. This parameter overrides `nextRebalanceDate`.\n",
    "\n",
    "If neithor `nextRebalanceDate` nor `marketDays` parameters are passed, CPO will infer the number of market days from rebalancing frequency by assuming 5 market days a week and 21 market days a month.\n",
    "\n",
    "The following code submit a live prediction training request, check the progress, then load the predicted allocation."
   ]
  },
  {
   "cell_type": "code",
   "execution_count": 17,
   "id": "ee5900b1-9563-457e-94b6-abfa19b5c337",
   "metadata": {},
   "outputs": [
    {
     "name": "stdout",
     "output_type": "stream",
     "text": [
      "job submitted for cpo live prediction.: Id 16e2c6fc-40ff-4e79-b9ec-93b6b77fd99a\n"
     ]
    }
   ],
   "source": [
    "livePredictionResult = client.RunLivePrediction(\n",
    "    portfolioParameters,\n",
    "    rebalanceDate= datetime(2022, 7, 1),\n",
    "    nextRebalanceDate= datetime(2022, 8, 1),\n",
    "    debug= \"debug\")\n",
    "print(livePredictionResult)"
   ]
  },
  {
   "cell_type": "code",
   "execution_count": 18,
   "id": "2f501469-8986-4493-837b-3388eacae120",
   "metadata": {},
   "outputs": [
    {
     "name": "stdout",
     "output_type": "stream",
     "text": [
      "{\"cpo_job_id\":\"16e2c6fc-40ff-4e79-b9ec-93b6b77fd99a\",\"cpo_job_status\":\"PENDING\",\"cpo_result\":\"{\\\"return\\\":0.0,\\\"risk\\\":0.0,\\\"sharpe\\\":0.0,\\\"CAGR\\\":0.0,\\\"UI\\\":0.0,\\\"UPI\\\":0.0,\\\"MaxDD\\\":0.0}\",\"progress\":\"{\\\"step\\\":1,\\\"progress\\\":\\\"Training models\\\"}\"}\n"
     ]
    }
   ],
   "source": [
    "# Check status\n",
    "job = client.GetJobForId(livePredictionResult.Id)\n",
    "print(job)"
   ]
  },
  {
   "cell_type": "markdown",
   "id": "4b0b5493-4e0d-402c-8b41-296ba8939d81",
   "metadata": {},
   "source": [
    "After the job prediction is made, user can also load the result without redo the training with the following code. The key parameter is `rebalance_date`."
   ]
  },
  {
   "cell_type": "code",
   "execution_count": 19,
   "id": "53fd6f9a-757e-4012-8118-71e8a7a7bb32",
   "metadata": {},
   "outputs": [
    {
     "data": {
      "text/plain": [
       "{datetime.datetime(2022, 7, 1, 0, 0): {'SPY': 0.0,\n",
       "  'QQQ': 0.0,\n",
       "  'VNQ': 0.0,\n",
       "  'REM': 0.0,\n",
       "  'IEF': 0.0,\n",
       "  'TLT': 0.0}}"
      ]
     },
     "execution_count": 19,
     "metadata": {},
     "output_type": "execute_result"
    }
   ],
   "source": [
    "weightsByDate = client.GetLivePredictionWeights(\n",
    "    portfolioParameters, \n",
    "    rebalanceDate= datetime(2022, 7, 1),\n",
    "    debug= \"debug\")\n",
    "weightsByDate"
   ]
  }
 ],
 "metadata": {
  "kernelspec": {
   "display_name": "Foundation-Py-Default",
   "language": "python",
   "name": "python3"
  },
  "language_info": {
   "codemirror_mode": {
    "name": "ipython",
    "version": 3
   },
   "file_extension": ".py",
   "mimetype": "text/x-python",
   "name": "python",
   "nbconvert_exporter": "python",
   "pygments_lexer": "ipython3",
   "version": "3.8.16"
  }
 },
 "nbformat": 4,
 "nbformat_minor": 5
}
