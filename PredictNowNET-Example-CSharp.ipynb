{
 "cells": [
  {
   "cell_type": "markdown",
   "id": "4cb77317-eeb9-4f3c-8d01-1701d889b2c9",
   "metadata": {},
   "source": [
    "### Demo Notebook For CPO 2.0 API\n",
    "This notebook presents how to connect to the CPO 2.0 API, manage files, set up parameters and request predictions. It also covers the requirement on and format of input data."
   ]
  },
  {
   "cell_type": "code",
   "execution_count": 1,
   "id": "9a61be95-ada0-46c5-ba75-5c7d0b4e8408",
   "metadata": {
    "tags": [],
    "vscode": {
     "languageId": "csharp"
    }
   },
   "outputs": [
    {
     "data": {
      "text/html": [
       "\r\n",
       "<div>\r\n",
       "    <div id='dotnet-interactive-this-cell-19408.Microsoft.DotNet.Interactive.Http.HttpPort' style='display: none'>\r\n",
       "        The below script needs to be able to find the current output cell; this is an easy method to get it.\r\n",
       "    </div>\r\n",
       "    <script type='text/javascript'>\r\n",
       "async function probeAddresses(probingAddresses) {\r\n",
       "    function timeout(ms, promise) {\r\n",
       "        return new Promise(function (resolve, reject) {\r\n",
       "            setTimeout(function () {\r\n",
       "                reject(new Error('timeout'))\r\n",
       "            }, ms)\r\n",
       "            promise.then(resolve, reject)\r\n",
       "        })\r\n",
       "    }\r\n",
       "\r\n",
       "    if (Array.isArray(probingAddresses)) {\r\n",
       "        for (let i = 0; i < probingAddresses.length; i++) {\r\n",
       "\r\n",
       "            let rootUrl = probingAddresses[i];\r\n",
       "\r\n",
       "            if (!rootUrl.endsWith('/')) {\r\n",
       "                rootUrl = `${rootUrl}/`;\r\n",
       "            }\r\n",
       "\r\n",
       "            try {\r\n",
       "                let response = await timeout(1000, fetch(`${rootUrl}discovery`, {\r\n",
       "                    method: 'POST',\r\n",
       "                    cache: 'no-cache',\r\n",
       "                    mode: 'cors',\r\n",
       "                    timeout: 1000,\r\n",
       "                    headers: {\r\n",
       "                        'Content-Type': 'text/plain'\r\n",
       "                    },\r\n",
       "                    body: probingAddresses[i]\r\n",
       "                }));\r\n",
       "\r\n",
       "                if (response.status == 200) {\r\n",
       "                    return rootUrl;\r\n",
       "                }\r\n",
       "            }\r\n",
       "            catch (e) { }\r\n",
       "        }\r\n",
       "    }\r\n",
       "}\r\n",
       "\r\n",
       "function loadDotnetInteractiveApi() {\r\n",
       "    probeAddresses([\"http://192.168.1.2:2048/\", \"http://127.0.0.1:2048/\"])\r\n",
       "        .then((root) => {\r\n",
       "        // use probing to find host url and api resources\r\n",
       "        // load interactive helpers and language services\r\n",
       "        let dotnetInteractiveRequire = require.config({\r\n",
       "        context: '19408.Microsoft.DotNet.Interactive.Http.HttpPort',\r\n",
       "                paths:\r\n",
       "            {\r\n",
       "                'dotnet-interactive': `${root}resources`\r\n",
       "                }\r\n",
       "        }) || require;\r\n",
       "\r\n",
       "            window.dotnetInteractiveRequire = dotnetInteractiveRequire;\r\n",
       "\r\n",
       "            window.configureRequireFromExtension = function(extensionName, extensionCacheBuster) {\r\n",
       "                let paths = {};\r\n",
       "                paths[extensionName] = `${root}extensions/${extensionName}/resources/`;\r\n",
       "                \r\n",
       "                let internalRequire = require.config({\r\n",
       "                    context: extensionCacheBuster,\r\n",
       "                    paths: paths,\r\n",
       "                    urlArgs: `cacheBuster=${extensionCacheBuster}`\r\n",
       "                    }) || require;\r\n",
       "\r\n",
       "                return internalRequire\r\n",
       "            };\r\n",
       "        \r\n",
       "            dotnetInteractiveRequire([\r\n",
       "                    'dotnet-interactive/dotnet-interactive'\r\n",
       "                ],\r\n",
       "                function (dotnet) {\r\n",
       "                    dotnet.init(window);\r\n",
       "                },\r\n",
       "                function (error) {\r\n",
       "                    console.log(error);\r\n",
       "                }\r\n",
       "            );\r\n",
       "        })\r\n",
       "        .catch(error => {console.log(error);});\r\n",
       "    }\r\n",
       "\r\n",
       "// ensure `require` is available globally\r\n",
       "if ((typeof(require) !==  typeof(Function)) || (typeof(require.config) !== typeof(Function))) {\r\n",
       "    let require_script = document.createElement('script');\r\n",
       "    require_script.setAttribute('src', 'https://cdnjs.cloudflare.com/ajax/libs/require.js/2.3.6/require.min.js');\r\n",
       "    require_script.setAttribute('type', 'text/javascript');\r\n",
       "    \r\n",
       "    \r\n",
       "    require_script.onload = function() {\r\n",
       "        loadDotnetInteractiveApi();\r\n",
       "    };\r\n",
       "\r\n",
       "    document.getElementsByTagName('head')[0].appendChild(require_script);\r\n",
       "}\r\n",
       "else {\r\n",
       "    loadDotnetInteractiveApi();\r\n",
       "}\r\n",
       "\r\n",
       "    </script>\r\n",
       "</div>"
      ]
     },
     "metadata": {},
     "output_type": "display_data"
    }
   ],
   "source": [
    "// Load the binary\n",
    "#r \"QuantConnect.PredictNowNET.dll\""
   ]
  },
  {
   "cell_type": "code",
   "execution_count": 2,
   "id": "3fe0f360-56a9-408a-82d3-d42ddebdb56f",
   "metadata": {
    "tags": [],
    "vscode": {
     "languageId": "csharp"
    }
   },
   "outputs": [],
   "source": [
    "// Import statement\n",
    "using System;\n",
    "using System.IO;\n",
    "using QuantConnect.Configuration;\n",
    "using QuantConnect.PredictNowNET;\n",
    "using QuantConnect.PredictNowNET.Models;"
   ]
  },
  {
   "cell_type": "code",
   "execution_count": 3,
   "id": "a82f2f23-e47b-4415-b604-b7aa7c21cb71",
   "metadata": {
    "tags": [],
    "vscode": {
     "languageId": "csharp"
    }
   },
   "outputs": [
    {
     "data": {
      "text/html": [
       "<div class=\"dni-plaintext\"><pre>True</pre></div><style>\r\n",
       ".dni-code-hint {\r\n",
       "    font-style: italic;\r\n",
       "    overflow: hidden;\r\n",
       "    white-space: nowrap;\r\n",
       "}\r\n",
       ".dni-treeview {\r\n",
       "    white-space: nowrap;\r\n",
       "}\r\n",
       ".dni-treeview td {\r\n",
       "    vertical-align: top;\r\n",
       "    text-align: start;\r\n",
       "}\r\n",
       "details.dni-treeview {\r\n",
       "    padding-left: 1em;\r\n",
       "}\r\n",
       "table td {\r\n",
       "    text-align: start;\r\n",
       "}\r\n",
       "table tr { \r\n",
       "    vertical-align: top; \r\n",
       "    margin: 0em 0px;\r\n",
       "}\r\n",
       "table tr td pre \r\n",
       "{ \r\n",
       "    vertical-align: top !important; \r\n",
       "    margin: 0em 0px !important;\r\n",
       "} \r\n",
       "table th {\r\n",
       "    text-align: start;\r\n",
       "}\r\n",
       "</style>"
      ]
     },
     "execution_count": 3,
     "metadata": {},
     "output_type": "execute_result"
    }
   ],
   "source": [
    "Config.Set(\"predict-now-url\", \"http://localhost:5005/\");\n",
    "var userEmail = \"me@office.com\";\n",
    "var client = new PredictNowClient(userEmail);\n",
    "client.Connected"
   ]
  },
  {
   "cell_type": "markdown",
   "id": "b85ec148-900a-418d-bc54-db24c552229d",
   "metadata": {
    "tags": []
   },
   "source": [
    "### Uploading Data\n",
    "CPO requires daily returns data and constraints on each portfolio components as inputs. User can also upload additional features. These data are stored in separate directories under the client's account. If a new data file is re-uploaded under the same file name, the existing file will be overwritten. This can be used to update the return file for live predictions.\n",
    "\n",
    "#### Return File\n",
    "Return file should contain daily return of all or a superset of the components in the portfolio universe, with `return(t) = close(t) / close(t-1) - 1.0`. The return file should have a `Date` (alias `tradedate`, `time`, `timestamp`, `datetime`) column for indexing purposes, and the desired format is `yyyy-mm-dd`. Upon uploading the return file, CPO API will identify the `Date` column and provides feedbacks on the start- and end-dates so user can check if the processing is successful. User can upload multiple return files but only one return file can be used for each portfolio.\n",
    "\n",
    "CPO API will take all other columns as daily returns of portfolio components. NaNs and zeros and treated differently for these return columns. To be specific, NaNs are for historical period when the ticker *does not exist*, while zeros are taken as *real zero returns* (e.g. due to holidays). *Please contact PredictNow if your return data is sparse.*\n",
    "\n",
    "The following code upload the `ETF_return.csv` file from the `Data` directory, then list all available return files under the account."
   ]
  },
  {
   "cell_type": "code",
   "execution_count": 4,
   "id": "e2341bb1-f79c-4153-8158-eaa80d799ed4",
   "metadata": {
    "tags": [],
    "vscode": {
     "languageId": "csharp"
    }
   },
   "outputs": [
    {
     "data": {
      "text/plain": [
       "Date info from date with 16 return columns. Index range between 2010-01-04 and 2023-03-03."
      ]
     },
     "execution_count": 4,
     "metadata": {},
     "output_type": "execute_result"
    }
   ],
   "source": [
    "var filename = Path.Combine(\"..\", \"..\", \"..\", \"Tests\", \"Data\", \"ETF_return.csv\");\n",
    "var message = client.UploadReturnsFile(filename);\n",
    "message"
   ]
  },
  {
   "cell_type": "code",
   "execution_count": 5,
   "id": "0b8ef613-30d3-4a78-8092-1ca8e9b50eb8",
   "metadata": {
    "tags": []
   },
   "outputs": [
    {
     "data": {
      "text/html": [
       "<div class=\"dni-plaintext\"><pre>[ ETF_return.csv, ETF_return2.csv, ETF_return99.csv, CUsersAlexPredictNowNETTestsbinDebugnet6.0DataETF_return.csv, Returns.csv ]</pre></div><style>\r\n",
       ".dni-code-hint {\r\n",
       "    font-style: italic;\r\n",
       "    overflow: hidden;\r\n",
       "    white-space: nowrap;\r\n",
       "}\r\n",
       ".dni-treeview {\r\n",
       "    white-space: nowrap;\r\n",
       "}\r\n",
       ".dni-treeview td {\r\n",
       "    vertical-align: top;\r\n",
       "    text-align: start;\r\n",
       "}\r\n",
       "details.dni-treeview {\r\n",
       "    padding-left: 1em;\r\n",
       "}\r\n",
       "table td {\r\n",
       "    text-align: start;\r\n",
       "}\r\n",
       "table tr { \r\n",
       "    vertical-align: top; \r\n",
       "    margin: 0em 0px;\r\n",
       "}\r\n",
       "table tr td pre \r\n",
       "{ \r\n",
       "    vertical-align: top !important; \r\n",
       "    margin: 0em 0px !important;\r\n",
       "} \r\n",
       "table th {\r\n",
       "    text-align: start;\r\n",
       "}\r\n",
       "</style>"
      ]
     },
     "execution_count": 5,
     "metadata": {},
     "output_type": "execute_result"
    }
   ],
   "source": [
    "// List the files\n",
    "var files = client.ListReturnsFiles();\n",
    "files"
   ]
  },
  {
   "cell_type": "markdown",
   "id": "621fbd22-5441-4c32-adf4-774440cf486f",
   "metadata": {},
   "source": [
    "#### Constrain files\n",
    "The constraint file defines the portfolio universe and the upper and lower boundaries (min and max allocation) of each components. There should be a `component` column for the component names, and these names should also be a subset of the return columns of the return file to be used. The column names are case sensitive. The upper and lower boundaries of each component should be given in the `UB` and `LB` columns, and their default values are 0.0 (0%) and 1.0 (100%) if not provided for a given component. Each user can upload multiple constraint files under different names, but only one constraint file can be used for each portfoio.\n",
    "\n",
    "The following code upload the `ETF_constrain.csv` file from the `Data` directory, then list all available constraint files under the account. Note that `ETF_constrain.csv` contains fewer components than the `ETF_return.csv` file, in which case the additional ETFs will not be used to construct the portfolio."
   ]
  },
  {
   "cell_type": "code",
   "execution_count": 6,
   "id": "c1256d40-d6b6-4186-8111-1c615e6bba37",
   "metadata": {
    "tags": [],
    "vscode": {
     "languageId": "csharp"
    }
   },
   "outputs": [
    {
     "data": {
      "text/plain": [
       "Constraint file processed for 6 components"
      ]
     },
     "execution_count": 6,
     "metadata": {},
     "output_type": "execute_result"
    }
   ],
   "source": [
    "var filename = Path.Combine(\"..\", \"..\", \"..\", \"Tests\", \"Data\", \"ETF_constrain.csv\");\n",
    "var message = client.UploadConstraintFile(filename);\n",
    "message"
   ]
  },
  {
   "cell_type": "code",
   "execution_count": 7,
   "id": "76101973-a937-4616-a261-7dc5947bfbdf",
   "metadata": {
    "tags": []
   },
   "outputs": [
    {
     "data": {
      "text/html": [
       "<div class=\"dni-plaintext\"><pre>[ ETF_constrain.csv, Constraint.csv ]</pre></div><style>\r\n",
       ".dni-code-hint {\r\n",
       "    font-style: italic;\r\n",
       "    overflow: hidden;\r\n",
       "    white-space: nowrap;\r\n",
       "}\r\n",
       ".dni-treeview {\r\n",
       "    white-space: nowrap;\r\n",
       "}\r\n",
       ".dni-treeview td {\r\n",
       "    vertical-align: top;\r\n",
       "    text-align: start;\r\n",
       "}\r\n",
       "details.dni-treeview {\r\n",
       "    padding-left: 1em;\r\n",
       "}\r\n",
       "table td {\r\n",
       "    text-align: start;\r\n",
       "}\r\n",
       "table tr { \r\n",
       "    vertical-align: top; \r\n",
       "    margin: 0em 0px;\r\n",
       "}\r\n",
       "table tr td pre \r\n",
       "{ \r\n",
       "    vertical-align: top !important; \r\n",
       "    margin: 0em 0px !important;\r\n",
       "} \r\n",
       "table th {\r\n",
       "    text-align: start;\r\n",
       "}\r\n",
       "</style>"
      ]
     },
     "execution_count": 7,
     "metadata": {},
     "output_type": "execute_result"
    }
   ],
   "source": [
    "// List the files\n",
    "var files = client.ListConstraintFiles();\n",
    "files"
   ]
  },
  {
   "cell_type": "markdown",
   "id": "4bb648f7-0b3d-41dd-87d6-087f8f19706d",
   "metadata": {},
   "source": [
    "#### Feature files (Optional)\n",
    "\n",
    "User can provide additional feature files to help prediction. Feature files are time-series files just like returns, so the key column is also `Date` (alias `tradedate`, `time`, `timestamp`, `datetime`). The desired format is `yyyy-mm-dd` for the ease of auto-processing. The clinet's features are merged with pre-engineered features at PredictNow by matching the `Date` column, and CPO API assumes all features are available before the open of market of the target date. All features are forward filled (using the latest one that is available) before training. User can upload multiple feature files.\n",
    "\n",
    "The following code upload the `Random_Feature.csv` file from the `Data` directory, then list all available client feauture files under the account. The uploaded feature are randomly generated and should not provide any prediction power."
   ]
  },
  {
   "cell_type": "code",
   "execution_count": 8,
   "id": "c39d6dbe-9713-465e-8d29-09a10d61be49",
   "metadata": {
    "tags": [],
    "vscode": {
     "languageId": "csharp"
    }
   },
   "outputs": [
    {
     "data": {
      "text/plain": [
       "Date info from TradeDate with 4 return columns. Index range between 2015-01-02 and 2022-08-02."
      ]
     },
     "execution_count": 8,
     "metadata": {},
     "output_type": "execute_result"
    }
   ],
   "source": [
    "var filename = Path.Combine(\"..\", \"..\", \"..\", \"Tests\", \"Data\", \"Random_Feature.csv\");\n",
    "var message = client.UploadFeaturesFile(filename);\n",
    "message"
   ]
  },
  {
   "cell_type": "code",
   "execution_count": 9,
   "id": "56914dbb-3e07-443c-8a17-1a3810e1f277",
   "metadata": {
    "tags": []
   },
   "outputs": [
    {
     "data": {
      "text/html": [
       "<div class=\"dni-plaintext\"><pre>[ Random_Feature.csv, features.csv ]</pre></div><style>\r\n",
       ".dni-code-hint {\r\n",
       "    font-style: italic;\r\n",
       "    overflow: hidden;\r\n",
       "    white-space: nowrap;\r\n",
       "}\r\n",
       ".dni-treeview {\r\n",
       "    white-space: nowrap;\r\n",
       "}\r\n",
       ".dni-treeview td {\r\n",
       "    vertical-align: top;\r\n",
       "    text-align: start;\r\n",
       "}\r\n",
       "details.dni-treeview {\r\n",
       "    padding-left: 1em;\r\n",
       "}\r\n",
       "table td {\r\n",
       "    text-align: start;\r\n",
       "}\r\n",
       "table tr { \r\n",
       "    vertical-align: top; \r\n",
       "    margin: 0em 0px;\r\n",
       "}\r\n",
       "table tr td pre \r\n",
       "{ \r\n",
       "    vertical-align: top !important; \r\n",
       "    margin: 0em 0px !important;\r\n",
       "} \r\n",
       "table th {\r\n",
       "    text-align: start;\r\n",
       "}\r\n",
       "</style>"
      ]
     },
     "execution_count": 9,
     "metadata": {},
     "output_type": "execute_result"
    }
   ],
   "source": [
    "// List the files\n",
    "var files = client.ListFeaturesFiles();\n",
    "files"
   ]
  },
  {
   "cell_type": "markdown",
   "id": "3f2e4e9b-1208-4312-b087-f96937f9b308",
   "metadata": {},
   "source": [
    "### Parameters\n",
    "\n",
    "There are certain parameters that are required to run a CPO job, and these parameters generally fall into two categoraries: a) those define the property of the target portfolio, like what components are included, how often it is rebalanced, what is the metric to rebalanced etc., and b) parameter that define the job, like what period of time should be used as in-sample, or what is the target date for a live prediction. \n",
    "\n",
    "This section focuses on the first part of the parameters, while the job-related parameters will be described in later sections. But before diving into the parameters, we will talke about the important idea of *project* in CPO API.\n",
    "\n",
    "#### Project\n",
    "\n",
    "CPO is designed to determine the allocation of a portfolio during each rebalancing, but not for ticker selection or tune the optimized rebalancing frequency. These configurations are like hyper-parameters of the portfolio, and users can use projects to test different portfolio configurations like:\n",
    "\n",
    "- What if I do weekly rebalancing instead of monthly rebalancing?\n",
    "- What if I lower the max allocation of some high-risk components and allow certain amount of Cash allocation?\n",
    "- What if I include additional features that I think might be helpful?\n",
    "etc.\n",
    "\n",
    "In short, each project corresponds to a specific portfolio set up that is defined by the portfolio parameters.\n",
    "\n",
    "#### Portfolio parameters\n",
    "The following parameters define the portfolio and should be fixed for a given project throughthout in-sample, out-of-sample, and live-prediction. \n",
    "\n",
    "- `name`, mandatory, project / portfolio identification, e.g. `Demo_Project`\n",
    "- `returnsFile`, mandatory, daily return filename, should be uploaded first, e.g. `ETF_return.csv`\n",
    "- `constraintFile`, mandatory, portfolio components and their min and max allocations, should be uploaded first, e.g. `ETF_constraint.csv`. Note it's the `component` column in the `constraint_file` that defines the current portfolio universe.\n",
    "- `maxCash`, mandatory, maximum cash allocation allowed when risk is predicted to be large, float between 0 and 1 where 1 correspond to 100% (no market exposure).\n",
    "- `rebalancingPeriodUnit`, mandatory, 'week' or 'month', used with `rebalancingPeriod`.\n",
    "- `rebalancingPeriod`, mandatory, int. If `rebalancingPeriod = 2` and `rebalancingPeriodUnit = 'week'`, the portfolio would rebalanced every other week.\n",
    "- `rebalanceOn`, mandatory, 'first' or 'last', determine if the portfolio is rebalanced at the close of the first or last market day of the rebalancing period. Please see next subsection on how the dates are indexed in CPO.\n",
    "- `trainingDataSize`, mandatory, int, in the unit of years, size of rolling window that is used to make the prediction for each rebalancing.\n",
    "- `evaluationMetric`, mandatory, key performance metric to optimize, can be chosen from 'return', 'risk', 'sharpe', 'CAGR', 'UI', 'UPI', or 'MaxDD'. For risk related metrics, i.e. 'risk', 'UI', and 'MaxDD', `max_cash` will be overridden since Cash will always have zero and hence the minimal risk.\n",
    "- `featureFile`, optional, 'none' or 'feature_file1.csv, feature_file2.csv, ...', clinet feature to be included, and these files should be uploaded first.\n",
    "- `skipPNowFeature`, optional, if set to 'yes', 'true', or 'skip', will not include predictnow features. Note, if `feature_file` is not provided (`none` or not in the parameter dictionary) there would be no X-columns in the prediction model.\n",
    "\n",
    "The code below gives how to set up the portfolio parameters, with some optional ones commented out."
   ]
  },
  {
   "cell_type": "code",
   "execution_count": 10,
   "id": "8ff41edc-ba4c-4174-bf0e-9c14146970d8",
   "metadata": {
    "tags": [],
    "vscode": {
     "languageId": "csharp"
    }
   },
   "outputs": [],
   "source": [
    "var portfolioParameters = new PortfolioParameters(\n",
    "    name: \"Demo_Project_20231211\",\n",
    "    returnsFile: \"ETF_return.csv\",\n",
    "    constraintFile: \"ETF_constrain.csv\",\n",
    "    maxCash: 1.0,\n",
    "    rebalancingPeriodUnit: \"month\",\n",
    "    rebalancingPeriod: 1,\n",
    "    rebalanceOn: \"first\",\n",
    "    trainingDataSize: 3,\n",
    "    evaluationMetric: \"sharpe\");"
   ]
  },
  {
   "cell_type": "markdown",
   "id": "2f428cd4-39da-4e12-a8cb-3798f3f7ddc1",
   "metadata": {},
   "source": [
    "#### Additional Notes on how CPO Handles Date index\n",
    "There are two sets of date that are tightly related to each other, the rebalance period, and the rebalancing date.\n",
    "\n",
    "Rebalance period is usually labelled by the first calendar day within the period, regardless of if it is a valid market day. The start date of the first rebalancing period is taken from the `trainingStartDate` when in-sample or out-of-sample backtesting is requested. After that, the enxt start date would be the previous start date plus the date offset of the rebalancing period (e.g. 1 months, 2 weeks etc.). These dates are for indexing purposes, especially for CPO API to store and manage data files for each rebalancing period. The back-testing experiment will stop when the start date of the rebalancing period is larger than the `trainingEndDate`. \n",
    "\n",
    "The start date of a rebalancing period can be any calendar day and may not be an effective rebalancing (market) day. To determine the actual rebalancing date of the rebalancing period, CPO requires the knowledge on when the rebalancing should take place, i.e. the `rebalane_on` parameter. If `rebalance_on` is set to 'first', then CPO will use the first marketday within the rebalancing period; otherwise if `rebalance_on` is set to 'last', then the rebalancing date will be taken from the last market day of the PREVIOUS rebalancing period."
   ]
  },
  {
   "cell_type": "markdown",
   "id": "cc839d17-624b-4b28-83b7-91fac5c2cc32",
   "metadata": {},
   "source": [
    "### Backtesting\n",
    "\n",
    "Backtesting can be further divided into in-sample and out-of-sample backtestings. CPO uses the in-sample period to tune hyper-parameters of the prediction system, including selection of candidate strategies, type of prediction model to be used, and aggregation function that turns predictions into final recommendations. The tuned hyper-parameters will be saved, and user can use out-of-sample period to verify if CPO continuous to add values. Both in-sample and out-of-sample backtesting jobs require some additional parameters then those defined the portfolio.\n",
    "\n",
    "#### In-sample backtesting\n",
    "\n",
    "In-sample backtesting is used to determine the hyper-parameters of the CPO system. The parameters required for in-sample backtesting include:\n",
    "- `trainingStartDate`, mandatory, DateTime, the start date of the first rebalancing period to be included in the experiment. \n",
    "- `trainingEndDate`, mandatory, DateTime, the experiment terminates when the start of the period exceed the `trainingEndDate`.\n",
    "- `samplingProportion`, mandatory, float between 0 and 1, the fraction of base strategies to be kept. This parameter is usually set to 0.3 or 0.4.\n",
    "- `debug`, optional, will output more information in the backend when set to `debug`, and will not affect the performance or prediction.\n",
    "\n",
    "The following code submit an in-sample backtesing job between Jan and Dec 2023 for the demo portfolio defined earlier."
   ]
  },
  {
   "cell_type": "code",
   "execution_count": 11,
   "id": "4dcb2aad-d1d0-4e15-b594-1893a4deab92",
   "metadata": {
    "tags": [],
    "vscode": {
     "languageId": "csharp"
    }
   },
   "outputs": [
    {
     "data": {
      "text/html": [
       "<details open=\"open\" class=\"dni-treeview\"><summary><span class=\"dni-code-hint\"><code>job submitted for cpo in-sample backtesting.: Id 317f9752-1f01-4264-a321-7c5f03ac8717</code></span></summary><div><table><thead><tr></tr></thead><tbody><tr><td>Id</td><td><div class=\"dni-plaintext\"><pre>317f9752-1f01-4264-a321-7c5f03ac8717</pre></div></td></tr><tr><td>Message</td><td><div class=\"dni-plaintext\"><pre>job submitted for cpo in-sample backtesting.</pre></div></td></tr></tbody></table></div></details><style>\r\n",
       ".dni-code-hint {\r\n",
       "    font-style: italic;\r\n",
       "    overflow: hidden;\r\n",
       "    white-space: nowrap;\r\n",
       "}\r\n",
       ".dni-treeview {\r\n",
       "    white-space: nowrap;\r\n",
       "}\r\n",
       ".dni-treeview td {\r\n",
       "    vertical-align: top;\r\n",
       "    text-align: start;\r\n",
       "}\r\n",
       "details.dni-treeview {\r\n",
       "    padding-left: 1em;\r\n",
       "}\r\n",
       "table td {\r\n",
       "    text-align: start;\r\n",
       "}\r\n",
       "table tr { \r\n",
       "    vertical-align: top; \r\n",
       "    margin: 0em 0px;\r\n",
       "}\r\n",
       "table tr td pre \r\n",
       "{ \r\n",
       "    vertical-align: top !important; \r\n",
       "    margin: 0em 0px !important;\r\n",
       "} \r\n",
       "table th {\r\n",
       "    text-align: start;\r\n",
       "}\r\n",
       "</style>"
      ]
     },
     "execution_count": 11,
     "metadata": {},
     "output_type": "execute_result"
    }
   ],
   "source": [
    "var inSampleResult = client.RunInSampleBacktest(\n",
    "    portfolioParameters,\n",
    "    trainingStartDate: new DateTime(2019, 01, 01),\n",
    "    trainingEndDate: new DateTime(2019, 12, 31),\n",
    "    samplingProportion: 0.3,\n",
    "    debug: \"debug\");\n",
    "inSampleResult"
   ]
  },
  {
   "cell_type": "markdown",
   "id": "f3f9448f-dc60-4cbf-9688-22e50761cc5b",
   "metadata": {},
   "source": [
    "#### Time cost of in-sample backtesting\n",
    "It can take 20 - 30 min for each rebalancing period within the in-sample period, depending on no. of components in the portfolio, size of training data, and the sampling proportion. The time cost can add up quickly when the test includes many rebalancing period, eithor due to more frequently rebalancing (e.g. weekly) or longer testing period. User can use the `get-cpo-job-status` function to check current status. CPO API will return the performance metrics of the tuned model after the job is finished, and the corresponding allocations will be sent to user's email. These weights can be loaded using a separate function as well, see later section.\n",
    "\n",
    "It is also possible that, due to the long-running nature of the back-testing jobs (both in-sample and out-of-sample), there could be connection errors that create a breaking point. In that case, **simply re-submit the training request without chaning any parameters.** There is breaking-point handling modules in CPO API that record the progress and will continue the job from the most recent breaking point. This is true for both in-sample and out-of-sample backtesting.\n",
    "\n",
    "The following code check the progress of the back-testing submited, and output the performance if job is finished."
   ]
  },
  {
   "cell_type": "code",
   "execution_count": 12,
   "id": "188b7d87-e450-4d8a-a5f9-794767d5164e",
   "metadata": {
    "tags": [],
    "vscode": {
     "languageId": "csharp"
    }
   },
   "outputs": [
    {
     "data": {
      "text/html": [
       "<details open=\"open\" class=\"dni-treeview\"><summary><span class=\"dni-code-hint\"><code>{&quot;cpo_job_id&quot;:&quot;317f9752-1f01-4264-a321-7c5f03ac8717&quot;,&quot;cpo_job_status&quot;:&quot;PENDING&quot;,&quot;cpo_result&quot;:&quot;{\\&quot;return\\&quot;:0.0,\\&quot;risk\\&quot;:0.0,\\&quot;sharpe\\&quot;:0.0,\\&quot;CAGR\\&quot;:0.0,\\&quot;UI\\&quot;:0.0,\\&quot;UPI\\&quot;:0.0,\\&quot;MaxDD\\&quot;:0.0}&quot;,&quot;progress&quot;:&quot;{\\&quot;step\\&quot;:2,\\&quot;progress\\&quot;:\\&quot;Training models\\&quot;}&quot;}</code></span></summary><div><table><thead><tr></tr></thead><tbody><tr><td>Id</td><td><div class=\"dni-plaintext\"><pre>317f9752-1f01-4264-a321-7c5f03ac8717</pre></div></td></tr><tr><td>Status</td><td><div class=\"dni-plaintext\"><pre>PENDING</pre></div></td></tr><tr><td>Performance</td><td><details class=\"dni-treeview\"><summary><span class=\"dni-code-hint\"><code>{&quot;return&quot;:0.0,&quot;risk&quot;:0.0,&quot;sharpe&quot;:0.0,&quot;CAGR&quot;:0.0,&quot;UI&quot;:0.0,&quot;UPI&quot;:0.0,&quot;MaxDD&quot;:0.0}</code></span></summary><div><table><thead><tr></tr></thead><tbody><tr><td>Return</td><td><div class=\"dni-plaintext\"><pre>0</pre></div></td></tr><tr><td>Risk</td><td><div class=\"dni-plaintext\"><pre>0</pre></div></td></tr><tr><td>SharpeRatio</td><td><div class=\"dni-plaintext\"><pre>0</pre></div></td></tr><tr><td>CAGR</td><td><div class=\"dni-plaintext\"><pre>0</pre></div></td></tr><tr><td>UI</td><td><div class=\"dni-plaintext\"><pre>0</pre></div></td></tr><tr><td>UPI</td><td><div class=\"dni-plaintext\"><pre>0</pre></div></td></tr><tr><td>MaximumDrawdown</td><td><div class=\"dni-plaintext\"><pre>0</pre></div></td></tr></tbody></table></div></details></td></tr><tr><td>Progress</td><td><details class=\"dni-treeview\"><summary><span class=\"dni-code-hint\"><code>QuantConnect.PredictNowNET.Models.Progress</code></span></summary><div><table><thead><tr></tr></thead><tbody><tr><td>Step</td><td><div class=\"dni-plaintext\"><pre>2</pre></div></td></tr><tr><td>Message</td><td><div class=\"dni-plaintext\"><pre>Training models</pre></div></td></tr></tbody></table></div></details></td></tr></tbody></table></div></details><style>\r\n",
       ".dni-code-hint {\r\n",
       "    font-style: italic;\r\n",
       "    overflow: hidden;\r\n",
       "    white-space: nowrap;\r\n",
       "}\r\n",
       ".dni-treeview {\r\n",
       "    white-space: nowrap;\r\n",
       "}\r\n",
       ".dni-treeview td {\r\n",
       "    vertical-align: top;\r\n",
       "    text-align: start;\r\n",
       "}\r\n",
       "details.dni-treeview {\r\n",
       "    padding-left: 1em;\r\n",
       "}\r\n",
       "table td {\r\n",
       "    text-align: start;\r\n",
       "}\r\n",
       "table tr { \r\n",
       "    vertical-align: top; \r\n",
       "    margin: 0em 0px;\r\n",
       "}\r\n",
       "table tr td pre \r\n",
       "{ \r\n",
       "    vertical-align: top !important; \r\n",
       "    margin: 0em 0px !important;\r\n",
       "} \r\n",
       "table th {\r\n",
       "    text-align: start;\r\n",
       "}\r\n",
       "</style>"
      ]
     },
     "execution_count": 12,
     "metadata": {},
     "output_type": "execute_result"
    }
   ],
   "source": [
    "// Check status\n",
    "var job = client.GetJobForId(inSampleResult.Id);\n",
    "job"
   ]
  },
  {
   "cell_type": "markdown",
   "id": "402cd741-42aa-4467-9d3f-2cf59a94011d",
   "metadata": {
    "tags": []
   },
   "source": [
    "#### Out of Sample Backteting\n",
    "\n",
    "Out of sample backtesting simply applies the hyper-parameters tuned during in-sample periods and test if they continue to add value over a different time period. That means, out-of-sample test can only be run after in-sample tuning is finished. The required input parameters are `trainingStartDate` and `trainingEndDate`, with the same definition and format as in-sample backtesting.\n",
    "\n",
    "It is important to keep the `trainingStartDate` parameters have the same format for in-sample and out-of-sample tests. For this example we are working on a portfolio that takes monthly rebalance on the first market day of the month, so we will keep `trainingStartDate` to the 1st of the month in OOS. Similarly, if in-sample test starts on a Monday for a weekly rebalanced portfolio, the OOS should start on the next Monday as well. \n",
    "\n",
    "OOS test generally runs faster than in-sample because there are fewer models to be run, but may still take 15 min for each rebalancing period.\n",
    "\n",
    "The following code submits an out-of-sample job for the demo portfolio between Jan and Jun 2022. The prediction will be made using configurations determined during in-sample testing."
   ]
  },
  {
   "cell_type": "code",
   "execution_count": 13,
   "id": "b7d75dcd-332b-4a62-8553-f18de6f70e62",
   "metadata": {
    "tags": [],
    "vscode": {
     "languageId": "csharp"
    }
   },
   "outputs": [
    {
     "data": {
      "text/html": [
       "<details open=\"open\" class=\"dni-treeview\"><summary><span class=\"dni-code-hint\"><code>job submitted for cpo back-testing.: Id bc9b3524-026f-43fc-8489-7ad72f330465</code></span></summary><div><table><thead><tr></tr></thead><tbody><tr><td>Id</td><td><div class=\"dni-plaintext\"><pre>bc9b3524-026f-43fc-8489-7ad72f330465</pre></div></td></tr><tr><td>Message</td><td><div class=\"dni-plaintext\"><pre>job submitted for cpo back-testing.</pre></div></td></tr></tbody></table></div></details><style>\r\n",
       ".dni-code-hint {\r\n",
       "    font-style: italic;\r\n",
       "    overflow: hidden;\r\n",
       "    white-space: nowrap;\r\n",
       "}\r\n",
       ".dni-treeview {\r\n",
       "    white-space: nowrap;\r\n",
       "}\r\n",
       ".dni-treeview td {\r\n",
       "    vertical-align: top;\r\n",
       "    text-align: start;\r\n",
       "}\r\n",
       "details.dni-treeview {\r\n",
       "    padding-left: 1em;\r\n",
       "}\r\n",
       "table td {\r\n",
       "    text-align: start;\r\n",
       "}\r\n",
       "table tr { \r\n",
       "    vertical-align: top; \r\n",
       "    margin: 0em 0px;\r\n",
       "}\r\n",
       "table tr td pre \r\n",
       "{ \r\n",
       "    vertical-align: top !important; \r\n",
       "    margin: 0em 0px !important;\r\n",
       "} \r\n",
       "table th {\r\n",
       "    text-align: start;\r\n",
       "}\r\n",
       "</style>"
      ]
     },
     "execution_count": 13,
     "metadata": {},
     "output_type": "execute_result"
    }
   ],
   "source": [
    "var outOfSampleResult = client.RunOutOfSampleBacktest(\n",
    "    portfolioParameters,\n",
    "    trainingStartDate: new DateTime(2019, 01, 01),\n",
    "    trainingEndDate: new DateTime(2019, 12, 31),\n",
    "    debug: \"debug\");\n",
    "outOfSampleResult"
   ]
  },
  {
   "cell_type": "code",
   "execution_count": 14,
   "id": "7f36be9e-02f3-4e63-a73d-8de43fa6de93",
   "metadata": {
    "tags": [],
    "vscode": {
     "languageId": "csharp"
    }
   },
   "outputs": [
    {
     "data": {
      "text/html": [
       "<details open=\"open\" class=\"dni-treeview\"><summary><span class=\"dni-code-hint\"><code>{&quot;cpo_job_id&quot;:&quot;bc9b3524-026f-43fc-8489-7ad72f330465&quot;,&quot;cpo_job_status&quot;:&quot;PENDING&quot;,&quot;cpo_result&quot;:&quot;{\\&quot;return\\&quot;:0.0,\\&quot;risk\\&quot;:0.0,\\&quot;sharpe\\&quot;:0.0,\\&quot;CAGR\\&quot;:0.0,\\&quot;UI\\&quot;:0.0,\\&quot;UPI\\&quot;:0.0,\\&quot;MaxDD\\&quot;:0.0}&quot;,&quot;progress&quot;:&quot;{\\&quot;step\\&quot;:1,\\&quot;progress\\&quot;:\\&quot;Training models\\&quot;}&quot;}</code></span></summary><div><table><thead><tr></tr></thead><tbody><tr><td>Id</td><td><div class=\"dni-plaintext\"><pre>bc9b3524-026f-43fc-8489-7ad72f330465</pre></div></td></tr><tr><td>Status</td><td><div class=\"dni-plaintext\"><pre>PENDING</pre></div></td></tr><tr><td>Performance</td><td><details class=\"dni-treeview\"><summary><span class=\"dni-code-hint\"><code>{&quot;return&quot;:0.0,&quot;risk&quot;:0.0,&quot;sharpe&quot;:0.0,&quot;CAGR&quot;:0.0,&quot;UI&quot;:0.0,&quot;UPI&quot;:0.0,&quot;MaxDD&quot;:0.0}</code></span></summary><div><table><thead><tr></tr></thead><tbody><tr><td>Return</td><td><div class=\"dni-plaintext\"><pre>0</pre></div></td></tr><tr><td>Risk</td><td><div class=\"dni-plaintext\"><pre>0</pre></div></td></tr><tr><td>SharpeRatio</td><td><div class=\"dni-plaintext\"><pre>0</pre></div></td></tr><tr><td>CAGR</td><td><div class=\"dni-plaintext\"><pre>0</pre></div></td></tr><tr><td>UI</td><td><div class=\"dni-plaintext\"><pre>0</pre></div></td></tr><tr><td>UPI</td><td><div class=\"dni-plaintext\"><pre>0</pre></div></td></tr><tr><td>MaximumDrawdown</td><td><div class=\"dni-plaintext\"><pre>0</pre></div></td></tr></tbody></table></div></details></td></tr><tr><td>Progress</td><td><details class=\"dni-treeview\"><summary><span class=\"dni-code-hint\"><code>QuantConnect.PredictNowNET.Models.Progress</code></span></summary><div><table><thead><tr></tr></thead><tbody><tr><td>Step</td><td><div class=\"dni-plaintext\"><pre>1</pre></div></td></tr><tr><td>Message</td><td><div class=\"dni-plaintext\"><pre>Training models</pre></div></td></tr></tbody></table></div></details></td></tr></tbody></table></div></details><style>\r\n",
       ".dni-code-hint {\r\n",
       "    font-style: italic;\r\n",
       "    overflow: hidden;\r\n",
       "    white-space: nowrap;\r\n",
       "}\r\n",
       ".dni-treeview {\r\n",
       "    white-space: nowrap;\r\n",
       "}\r\n",
       ".dni-treeview td {\r\n",
       "    vertical-align: top;\r\n",
       "    text-align: start;\r\n",
       "}\r\n",
       "details.dni-treeview {\r\n",
       "    padding-left: 1em;\r\n",
       "}\r\n",
       "table td {\r\n",
       "    text-align: start;\r\n",
       "}\r\n",
       "table tr { \r\n",
       "    vertical-align: top; \r\n",
       "    margin: 0em 0px;\r\n",
       "}\r\n",
       "table tr td pre \r\n",
       "{ \r\n",
       "    vertical-align: top !important; \r\n",
       "    margin: 0em 0px !important;\r\n",
       "} \r\n",
       "table th {\r\n",
       "    text-align: start;\r\n",
       "}\r\n",
       "</style>"
      ]
     },
     "execution_count": 14,
     "metadata": {},
     "output_type": "execute_result"
    }
   ],
   "source": [
    "// Check status\n",
    "var job = client.GetJobForId(outOfSampleResult.Id);\n",
    "job"
   ]
  },
  {
   "cell_type": "markdown",
   "id": "a99875aa-5994-41ea-9fca-5326a3d73950",
   "metadata": {},
   "source": [
    "#### Load Backtesting Results\n",
    "\n",
    "The predictions generated during in-sample and out-of-sample backtesting experiments are stored on CPO API. Users can request these results for in-sample, out-of-sample, or combined. The key parameters are, again, `trainingStartDate` and `trainingEndDate`.\n",
    "\n",
    "The following requests the CPO allocations and its performance for the entire back-testing period (in-sample + out-of-sample)."
   ]
  },
  {
   "cell_type": "code",
   "execution_count": 15,
   "id": "5da0b190-ee4d-49b1-ba8c-f110b4bc6862",
   "metadata": {
    "tags": [],
    "vscode": {
     "languageId": "csharp"
    }
   },
   "outputs": [
    {
     "data": {
      "text/html": [
       "<table><thead><tr><th><i>key</i></th><th>value</th></tr></thead><tbody><tr><td><span>2019-01-02 00:00:00Z</span></td><td><table><thead><tr><th><i>key</i></th><th>value</th></tr></thead><tbody><tr><td><div class=\"dni-plaintext\"><pre>SPY</pre></div></td><td><div class=\"dni-plaintext\"><pre>0.0539468147</pre></div></td></tr><tr><td><div class=\"dni-plaintext\"><pre>QQQ</pre></div></td><td><div class=\"dni-plaintext\"><pre>0.0346698355</pre></div></td></tr><tr><td><div class=\"dni-plaintext\"><pre>VNQ</pre></div></td><td><div class=\"dni-plaintext\"><pre>0.0331834347</pre></div></td></tr><tr><td><div class=\"dni-plaintext\"><pre>REM</pre></div></td><td><div class=\"dni-plaintext\"><pre>0.1002935535</pre></div></td></tr><tr><td><div class=\"dni-plaintext\"><pre>IEF</pre></div></td><td><div class=\"dni-plaintext\"><pre>0.2798133149</pre></div></td></tr><tr><td><div class=\"dni-plaintext\"><pre>TLT</pre></div></td><td><div class=\"dni-plaintext\"><pre>0.1904534153</pre></div></td></tr></tbody></table></td></tr><tr><td><span>2019-02-01 00:00:00Z</span></td><td><table><thead><tr><th><i>key</i></th><th>value</th></tr></thead><tbody><tr><td><div class=\"dni-plaintext\"><pre>SPY</pre></div></td><td><div class=\"dni-plaintext\"><pre>0.0446511781</pre></div></td></tr><tr><td><div class=\"dni-plaintext\"><pre>QQQ</pre></div></td><td><div class=\"dni-plaintext\"><pre>0.039910024</pre></div></td></tr><tr><td><div class=\"dni-plaintext\"><pre>VNQ</pre></div></td><td><div class=\"dni-plaintext\"><pre>0.0463260017</pre></div></td></tr><tr><td><div class=\"dni-plaintext\"><pre>REM</pre></div></td><td><div class=\"dni-plaintext\"><pre>0.0524557947</pre></div></td></tr><tr><td><div class=\"dni-plaintext\"><pre>IEF</pre></div></td><td><div class=\"dni-plaintext\"><pre>0.1055622018</pre></div></td></tr><tr><td><div class=\"dni-plaintext\"><pre>TLT</pre></div></td><td><div class=\"dni-plaintext\"><pre>0.0640442022</pre></div></td></tr></tbody></table></td></tr><tr><td><span>2019-03-01 00:00:00Z</span></td><td><table><thead><tr><th><i>key</i></th><th>value</th></tr></thead><tbody><tr><td><div class=\"dni-plaintext\"><pre>SPY</pre></div></td><td><div class=\"dni-plaintext\"><pre>0.07094082</pre></div></td></tr><tr><td><div class=\"dni-plaintext\"><pre>QQQ</pre></div></td><td><div class=\"dni-plaintext\"><pre>0.0683798591</pre></div></td></tr><tr><td><div class=\"dni-plaintext\"><pre>VNQ</pre></div></td><td><div class=\"dni-plaintext\"><pre>0.0799032846</pre></div></td></tr><tr><td><div class=\"dni-plaintext\"><pre>REM</pre></div></td><td><div class=\"dni-plaintext\"><pre>0.1146294247</pre></div></td></tr><tr><td><div class=\"dni-plaintext\"><pre>IEF</pre></div></td><td><div class=\"dni-plaintext\"><pre>0.2425103942</pre></div></td></tr><tr><td><div class=\"dni-plaintext\"><pre>TLT</pre></div></td><td><div class=\"dni-plaintext\"><pre>0.110000258</pre></div></td></tr></tbody></table></td></tr><tr><td><span>2019-04-01 00:00:00Z</span></td><td><table><thead><tr><th><i>key</i></th><th>value</th></tr></thead><tbody><tr><td><div class=\"dni-plaintext\"><pre>SPY</pre></div></td><td><div class=\"dni-plaintext\"><pre>0.1144147092</pre></div></td></tr><tr><td><div class=\"dni-plaintext\"><pre>QQQ</pre></div></td><td><div class=\"dni-plaintext\"><pre>0.0295901664</pre></div></td></tr><tr><td><div class=\"dni-plaintext\"><pre>VNQ</pre></div></td><td><div class=\"dni-plaintext\"><pre>0.0388845672</pre></div></td></tr><tr><td><div class=\"dni-plaintext\"><pre>REM</pre></div></td><td><div class=\"dni-plaintext\"><pre>0.0624777368</pre></div></td></tr><tr><td><div class=\"dni-plaintext\"><pre>IEF</pre></div></td><td><div class=\"dni-plaintext\"><pre>0.2810866834</pre></div></td></tr><tr><td><div class=\"dni-plaintext\"><pre>TLT</pre></div></td><td><div class=\"dni-plaintext\"><pre>0.0631862648</pre></div></td></tr></tbody></table></td></tr><tr><td><span>2019-05-01 00:00:00Z</span></td><td><table><thead><tr><th><i>key</i></th><th>value</th></tr></thead><tbody><tr><td><div class=\"dni-plaintext\"><pre>SPY</pre></div></td><td><div class=\"dni-plaintext\"><pre>0.0220024309</pre></div></td></tr><tr><td><div class=\"dni-plaintext\"><pre>QQQ</pre></div></td><td><div class=\"dni-plaintext\"><pre>0.085172843</pre></div></td></tr><tr><td><div class=\"dni-plaintext\"><pre>VNQ</pre></div></td><td><div class=\"dni-plaintext\"><pre>0</pre></div></td></tr><tr><td><div class=\"dni-plaintext\"><pre>REM</pre></div></td><td><div class=\"dni-plaintext\"><pre>0.0464939378</pre></div></td></tr><tr><td><div class=\"dni-plaintext\"><pre>IEF</pre></div></td><td><div class=\"dni-plaintext\"><pre>0.1739488572</pre></div></td></tr><tr><td><div class=\"dni-plaintext\"><pre>TLT</pre></div></td><td><div class=\"dni-plaintext\"><pre>0.0202796455</pre></div></td></tr></tbody></table></td></tr><tr><td><span>2019-06-03 00:00:00Z</span></td><td><table><thead><tr><th><i>key</i></th><th>value</th></tr></thead><tbody><tr><td><div class=\"dni-plaintext\"><pre>SPY</pre></div></td><td><div class=\"dni-plaintext\"><pre>0.1345840708</pre></div></td></tr><tr><td><div class=\"dni-plaintext\"><pre>QQQ</pre></div></td><td><div class=\"dni-plaintext\"><pre>0.0807885174</pre></div></td></tr><tr><td><div class=\"dni-plaintext\"><pre>VNQ</pre></div></td><td><div class=\"dni-plaintext\"><pre>0.0556767002</pre></div></td></tr><tr><td><div class=\"dni-plaintext\"><pre>REM</pre></div></td><td><div class=\"dni-plaintext\"><pre>0.0696000078</pre></div></td></tr><tr><td><div class=\"dni-plaintext\"><pre>IEF</pre></div></td><td><div class=\"dni-plaintext\"><pre>0.4032896738</pre></div></td></tr><tr><td><div class=\"dni-plaintext\"><pre>TLT</pre></div></td><td><div class=\"dni-plaintext\"><pre>0.2560610299</pre></div></td></tr></tbody></table></td></tr><tr><td><span>2019-07-01 00:00:00Z</span></td><td><table><thead><tr><th><i>key</i></th><th>value</th></tr></thead><tbody><tr><td><div class=\"dni-plaintext\"><pre>SPY</pre></div></td><td><div class=\"dni-plaintext\"><pre>0.1044118656</pre></div></td></tr><tr><td><div class=\"dni-plaintext\"><pre>QQQ</pre></div></td><td><div class=\"dni-plaintext\"><pre>0.0308209834</pre></div></td></tr><tr><td><div class=\"dni-plaintext\"><pre>VNQ</pre></div></td><td><div class=\"dni-plaintext\"><pre>0.0308209834</pre></div></td></tr><tr><td><div class=\"dni-plaintext\"><pre>REM</pre></div></td><td><div class=\"dni-plaintext\"><pre>0.0352558398</pre></div></td></tr><tr><td><div class=\"dni-plaintext\"><pre>IEF</pre></div></td><td><div class=\"dni-plaintext\"><pre>0.2014542724</pre></div></td></tr><tr><td><div class=\"dni-plaintext\"><pre>TLT</pre></div></td><td><div class=\"dni-plaintext\"><pre>0.1234285339</pre></div></td></tr></tbody></table></td></tr><tr><td><span>2019-08-01 00:00:00Z</span></td><td><table><thead><tr><th><i>key</i></th><th>value</th></tr></thead><tbody><tr><td><div class=\"dni-plaintext\"><pre>SPY</pre></div></td><td><div class=\"dni-plaintext\"><pre>0.080825333</pre></div></td></tr><tr><td><div class=\"dni-plaintext\"><pre>QQQ</pre></div></td><td><div class=\"dni-plaintext\"><pre>0.0217590672</pre></div></td></tr><tr><td><div class=\"dni-plaintext\"><pre>VNQ</pre></div></td><td><div class=\"dni-plaintext\"><pre>2.201030366E-20</pre></div></td></tr><tr><td><div class=\"dni-plaintext\"><pre>REM</pre></div></td><td><div class=\"dni-plaintext\"><pre>0.150314591</pre></div></td></tr><tr><td><div class=\"dni-plaintext\"><pre>IEF</pre></div></td><td><div class=\"dni-plaintext\"><pre>0.1864209511</pre></div></td></tr><tr><td><div class=\"dni-plaintext\"><pre>TLT</pre></div></td><td><div class=\"dni-plaintext\"><pre>0.0161788184</pre></div></td></tr></tbody></table></td></tr><tr><td><span>2019-09-03 00:00:00Z</span></td><td><table><thead><tr><th><i>key</i></th><th>value</th></tr></thead><tbody><tr><td><div class=\"dni-plaintext\"><pre>SPY</pre></div></td><td><div class=\"dni-plaintext\"><pre>0.0556821061</pre></div></td></tr><tr><td><div class=\"dni-plaintext\"><pre>QQQ</pre></div></td><td><div class=\"dni-plaintext\"><pre>0.053568495</pre></div></td></tr><tr><td><div class=\"dni-plaintext\"><pre>VNQ</pre></div></td><td><div class=\"dni-plaintext\"><pre>0.0733993034</pre></div></td></tr><tr><td><div class=\"dni-plaintext\"><pre>REM</pre></div></td><td><div class=\"dni-plaintext\"><pre>0.0665357219</pre></div></td></tr><tr><td><div class=\"dni-plaintext\"><pre>IEF</pre></div></td><td><div class=\"dni-plaintext\"><pre>0.1423674909</pre></div></td></tr><tr><td><div class=\"dni-plaintext\"><pre>TLT</pre></div></td><td><div class=\"dni-plaintext\"><pre>0.1365604066</pre></div></td></tr></tbody></table></td></tr><tr><td><span>2019-10-01 00:00:00Z</span></td><td><table><thead><tr><th><i>key</i></th><th>value</th></tr></thead><tbody><tr><td><div class=\"dni-plaintext\"><pre>SPY</pre></div></td><td><div class=\"dni-plaintext\"><pre>0.1303359727</pre></div></td></tr><tr><td><div class=\"dni-plaintext\"><pre>QQQ</pre></div></td><td><div class=\"dni-plaintext\"><pre>0.0385461294</pre></div></td></tr><tr><td><div class=\"dni-plaintext\"><pre>VNQ</pre></div></td><td><div class=\"dni-plaintext\"><pre>0.1201818964</pre></div></td></tr><tr><td><div class=\"dni-plaintext\"><pre>REM</pre></div></td><td><div class=\"dni-plaintext\"><pre>0.1446408029</pre></div></td></tr><tr><td><div class=\"dni-plaintext\"><pre>IEF</pre></div></td><td><div class=\"dni-plaintext\"><pre>0.2664095959</pre></div></td></tr><tr><td><div class=\"dni-plaintext\"><pre>TLT</pre></div></td><td><div class=\"dni-plaintext\"><pre>0.1489831939</pre></div></td></tr></tbody></table></td></tr><tr><td><span>2019-11-01 00:00:00Z</span></td><td><table><thead><tr><th><i>key</i></th><th>value</th></tr></thead><tbody><tr><td><div class=\"dni-plaintext\"><pre>SPY</pre></div></td><td><div class=\"dni-plaintext\"><pre>0.0401602358</pre></div></td></tr><tr><td><div class=\"dni-plaintext\"><pre>QQQ</pre></div></td><td><div class=\"dni-plaintext\"><pre>0.0292741935</pre></div></td></tr><tr><td><div class=\"dni-plaintext\"><pre>VNQ</pre></div></td><td><div class=\"dni-plaintext\"><pre>0.0110003924</pre></div></td></tr><tr><td><div class=\"dni-plaintext\"><pre>REM</pre></div></td><td><div class=\"dni-plaintext\"><pre>0.1232162198</pre></div></td></tr><tr><td><div class=\"dni-plaintext\"><pre>IEF</pre></div></td><td><div class=\"dni-plaintext\"><pre>0.2080889046</pre></div></td></tr><tr><td><div class=\"dni-plaintext\"><pre>TLT</pre></div></td><td><div class=\"dni-plaintext\"><pre>0.0265702144</pre></div></td></tr></tbody></table></td></tr><tr><td><span>2019-12-02 00:00:00Z</span></td><td><table><thead><tr><th><i>key</i></th><th>value</th></tr></thead><tbody><tr><td><div class=\"dni-plaintext\"><pre>SPY</pre></div></td><td><div class=\"dni-plaintext\"><pre>0.048315907</pre></div></td></tr><tr><td><div class=\"dni-plaintext\"><pre>QQQ</pre></div></td><td><div class=\"dni-plaintext\"><pre>0.1021682334</pre></div></td></tr><tr><td><div class=\"dni-plaintext\"><pre>VNQ</pre></div></td><td><div class=\"dni-plaintext\"><pre>0.0269679034</pre></div></td></tr><tr><td><div class=\"dni-plaintext\"><pre>REM</pre></div></td><td><div class=\"dni-plaintext\"><pre>0.1319869795</pre></div></td></tr><tr><td><div class=\"dni-plaintext\"><pre>IEF</pre></div></td><td><div class=\"dni-plaintext\"><pre>0.166060911</pre></div></td></tr><tr><td><div class=\"dni-plaintext\"><pre>TLT</pre></div></td><td><div class=\"dni-plaintext\"><pre>0.0408145264</pre></div></td></tr></tbody></table></td></tr></tbody></table><style>\r\n",
       ".dni-code-hint {\r\n",
       "    font-style: italic;\r\n",
       "    overflow: hidden;\r\n",
       "    white-space: nowrap;\r\n",
       "}\r\n",
       ".dni-treeview {\r\n",
       "    white-space: nowrap;\r\n",
       "}\r\n",
       ".dni-treeview td {\r\n",
       "    vertical-align: top;\r\n",
       "    text-align: start;\r\n",
       "}\r\n",
       "details.dni-treeview {\r\n",
       "    padding-left: 1em;\r\n",
       "}\r\n",
       "table td {\r\n",
       "    text-align: start;\r\n",
       "}\r\n",
       "table tr { \r\n",
       "    vertical-align: top; \r\n",
       "    margin: 0em 0px;\r\n",
       "}\r\n",
       "table tr td pre \r\n",
       "{ \r\n",
       "    vertical-align: top !important; \r\n",
       "    margin: 0em 0px !important;\r\n",
       "} \r\n",
       "table th {\r\n",
       "    text-align: start;\r\n",
       "}\r\n",
       "</style>"
      ]
     },
     "execution_count": 15,
     "metadata": {},
     "output_type": "execute_result"
    }
   ],
   "source": [
    "var weightsByDate = client.GetBacktestWeights(\n",
    "    portfolioParameters, \n",
    "    trainingStartDate: new DateTime(2019, 01, 01), \n",
    "    trainingEndDate: new DateTime(2019, 12, 31),\n",
    "    debug: \"debug\");\n",
    "weightsByDate"
   ]
  },
  {
   "cell_type": "code",
   "execution_count": 16,
   "id": "6d220f4c-cae4-4db7-a8a7-1b7c9690d35f",
   "metadata": {
    "tags": [],
    "vscode": {
     "languageId": "csharp"
    }
   },
   "outputs": [
    {
     "data": {
      "text/html": [
       "<details open=\"open\" class=\"dni-treeview\"><summary><span class=\"dni-code-hint\"><code>{&quot;return&quot;:0.09808653639533395,&quot;risk&quot;:0.030395491877785306,&quot;sharpe&quot;:3.2270093469690146,&quot;CAGR&quot;:0.10252805795293685,&quot;UI&quot;:0.30773793331371724,&quot;UPI&quot;:31.873398036809977,&quot;MaxDD&quot;:0.016158762466234027}</code></span></summary><div><table><thead><tr></tr></thead><tbody><tr><td>Return</td><td><div class=\"dni-plaintext\"><pre>0.09808653639533395</pre></div></td></tr><tr><td>Risk</td><td><div class=\"dni-plaintext\"><pre>0.030395491877785306</pre></div></td></tr><tr><td>SharpeRatio</td><td><div class=\"dni-plaintext\"><pre>3.2270093469690146</pre></div></td></tr><tr><td>CAGR</td><td><div class=\"dni-plaintext\"><pre>0.10252805795293685</pre></div></td></tr><tr><td>UI</td><td><div class=\"dni-plaintext\"><pre>0.30773793331371724</pre></div></td></tr><tr><td>UPI</td><td><div class=\"dni-plaintext\"><pre>31.873398036809977</pre></div></td></tr><tr><td>MaximumDrawdown</td><td><div class=\"dni-plaintext\"><pre>0.016158762466234027</pre></div></td></tr></tbody></table></div></details><style>\r\n",
       ".dni-code-hint {\r\n",
       "    font-style: italic;\r\n",
       "    overflow: hidden;\r\n",
       "    white-space: nowrap;\r\n",
       "}\r\n",
       ".dni-treeview {\r\n",
       "    white-space: nowrap;\r\n",
       "}\r\n",
       ".dni-treeview td {\r\n",
       "    vertical-align: top;\r\n",
       "    text-align: start;\r\n",
       "}\r\n",
       "details.dni-treeview {\r\n",
       "    padding-left: 1em;\r\n",
       "}\r\n",
       "table td {\r\n",
       "    text-align: start;\r\n",
       "}\r\n",
       "table tr { \r\n",
       "    vertical-align: top; \r\n",
       "    margin: 0em 0px;\r\n",
       "}\r\n",
       "table tr td pre \r\n",
       "{ \r\n",
       "    vertical-align: top !important; \r\n",
       "    margin: 0em 0px !important;\r\n",
       "} \r\n",
       "table th {\r\n",
       "    text-align: start;\r\n",
       "}\r\n",
       "</style>"
      ]
     },
     "execution_count": 16,
     "metadata": {},
     "output_type": "execute_result"
    }
   ],
   "source": [
    "var performance = client.GetBacktestPerformance(\n",
    "    portfolioParameters, \n",
    "    trainingStartDate: new DateTime(2019, 01, 01), \n",
    "    trainingEndDate: new DateTime(2019, 12, 31),\n",
    "    debug: \"debug\");\n",
    "performance"
   ]
  },
  {
   "cell_type": "markdown",
   "id": "455cacfd-2583-4a25-96d7-b4b5002d667f",
   "metadata": {},
   "source": [
    "### Live Prediction\n",
    "\n",
    "Live prediction means to use the tuned hyper-parameter to make prediction for an incoming rebalancing period. Live prediction requires the knowledge of a) the target rebalancing date, and b) the prediction horizon, i.e. how many market days are there in the incoming rebalancing period. User can provide the informaion using the following parameters:\n",
    "\n",
    "- `rebalanceDate`, mandatory, DateTime, the target rebalance date.\n",
    "- `nextRebalanceDate`, optional, DateTime, the next rebalance date after current target date. For example, for a weekly-rebalanced portfolio, if the `rebalanceDate` is set to '2023-10-02', the `nextRebalanceDate` would be Monday '2023-10-09'. If `nextRebalanceDate` is passed, CPO will use US market calendar to determine how many market days are there in the target rebalancing period.\n",
    "- `marketDays`, optional, int, the number of market days in the incoming rebalancing period. For a weekly rebalanced portfolio, `marketDays` is usually 5 unless there is a holiday. This parameter overrides `nextRebalanceDate`.\n",
    "\n",
    "If neithor `nextRebalanceDate` nor `marketDays` parameters are passed, CPO will infer the number of market days from rebalancing frequency by assuming 5 market days a week and 21 market days a month.\n",
    "\n",
    "The following code submit a live prediction training request, check the progress, then load the predicted allocation."
   ]
  },
  {
   "cell_type": "code",
   "execution_count": 17,
   "id": "a5682ae7-b476-49fb-8547-cf2ea2fc0590",
   "metadata": {
    "tags": [],
    "vscode": {
     "languageId": "csharp"
    }
   },
   "outputs": [
    {
     "data": {
      "text/html": [
       "<details open=\"open\" class=\"dni-treeview\"><summary><span class=\"dni-code-hint\"><code>job submitted for cpo live prediction.: Id 46db3a3b-06f1-45c0-a68e-5bdde55e5895</code></span></summary><div><table><thead><tr></tr></thead><tbody><tr><td>Id</td><td><div class=\"dni-plaintext\"><pre>46db3a3b-06f1-45c0-a68e-5bdde55e5895</pre></div></td></tr><tr><td>Message</td><td><div class=\"dni-plaintext\"><pre>job submitted for cpo live prediction.</pre></div></td></tr></tbody></table></div></details><style>\r\n",
       ".dni-code-hint {\r\n",
       "    font-style: italic;\r\n",
       "    overflow: hidden;\r\n",
       "    white-space: nowrap;\r\n",
       "}\r\n",
       ".dni-treeview {\r\n",
       "    white-space: nowrap;\r\n",
       "}\r\n",
       ".dni-treeview td {\r\n",
       "    vertical-align: top;\r\n",
       "    text-align: start;\r\n",
       "}\r\n",
       "details.dni-treeview {\r\n",
       "    padding-left: 1em;\r\n",
       "}\r\n",
       "table td {\r\n",
       "    text-align: start;\r\n",
       "}\r\n",
       "table tr { \r\n",
       "    vertical-align: top; \r\n",
       "    margin: 0em 0px;\r\n",
       "}\r\n",
       "table tr td pre \r\n",
       "{ \r\n",
       "    vertical-align: top !important; \r\n",
       "    margin: 0em 0px !important;\r\n",
       "} \r\n",
       "table th {\r\n",
       "    text-align: start;\r\n",
       "}\r\n",
       "</style>"
      ]
     },
     "execution_count": 17,
     "metadata": {},
     "output_type": "execute_result"
    }
   ],
   "source": [
    "var livePredictionResult = client.RunLivePrediction(\n",
    "    portfolioParameters,\n",
    "    rebalanceDate: new DateTime(2022, 07, 01),\n",
    "    nextRebalanceDate: new DateTime(2022, 08, 01),\n",
    "    debug: \"debug\");\n",
    "livePredictionResult"
   ]
  },
  {
   "cell_type": "code",
   "execution_count": 18,
   "id": "0caf1fcd-9b09-47fc-8ae1-a94c4d45a4a6",
   "metadata": {
    "tags": [],
    "vscode": {
     "languageId": "csharp"
    }
   },
   "outputs": [
    {
     "data": {
      "text/html": [
       "<details open=\"open\" class=\"dni-treeview\"><summary><span class=\"dni-code-hint\"><code>{&quot;cpo_job_id&quot;:&quot;46db3a3b-06f1-45c0-a68e-5bdde55e5895&quot;,&quot;cpo_job_status&quot;:&quot;PENDING&quot;,&quot;cpo_result&quot;:&quot;{\\&quot;return\\&quot;:0.0,\\&quot;risk\\&quot;:0.0,\\&quot;sharpe\\&quot;:0.0,\\&quot;CAGR\\&quot;:0.0,\\&quot;UI\\&quot;:0.0,\\&quot;UPI\\&quot;:0.0,\\&quot;MaxDD\\&quot;:0.0}&quot;,&quot;progress&quot;:&quot;{\\&quot;step\\&quot;:1,\\&quot;progress\\&quot;:\\&quot;Training models\\&quot;}&quot;}</code></span></summary><div><table><thead><tr></tr></thead><tbody><tr><td>Id</td><td><div class=\"dni-plaintext\"><pre>46db3a3b-06f1-45c0-a68e-5bdde55e5895</pre></div></td></tr><tr><td>Status</td><td><div class=\"dni-plaintext\"><pre>PENDING</pre></div></td></tr><tr><td>Performance</td><td><details class=\"dni-treeview\"><summary><span class=\"dni-code-hint\"><code>{&quot;return&quot;:0.0,&quot;risk&quot;:0.0,&quot;sharpe&quot;:0.0,&quot;CAGR&quot;:0.0,&quot;UI&quot;:0.0,&quot;UPI&quot;:0.0,&quot;MaxDD&quot;:0.0}</code></span></summary><div><table><thead><tr></tr></thead><tbody><tr><td>Return</td><td><div class=\"dni-plaintext\"><pre>0</pre></div></td></tr><tr><td>Risk</td><td><div class=\"dni-plaintext\"><pre>0</pre></div></td></tr><tr><td>SharpeRatio</td><td><div class=\"dni-plaintext\"><pre>0</pre></div></td></tr><tr><td>CAGR</td><td><div class=\"dni-plaintext\"><pre>0</pre></div></td></tr><tr><td>UI</td><td><div class=\"dni-plaintext\"><pre>0</pre></div></td></tr><tr><td>UPI</td><td><div class=\"dni-plaintext\"><pre>0</pre></div></td></tr><tr><td>MaximumDrawdown</td><td><div class=\"dni-plaintext\"><pre>0</pre></div></td></tr></tbody></table></div></details></td></tr><tr><td>Progress</td><td><details class=\"dni-treeview\"><summary><span class=\"dni-code-hint\"><code>QuantConnect.PredictNowNET.Models.Progress</code></span></summary><div><table><thead><tr></tr></thead><tbody><tr><td>Step</td><td><div class=\"dni-plaintext\"><pre>1</pre></div></td></tr><tr><td>Message</td><td><div class=\"dni-plaintext\"><pre>Training models</pre></div></td></tr></tbody></table></div></details></td></tr></tbody></table></div></details><style>\r\n",
       ".dni-code-hint {\r\n",
       "    font-style: italic;\r\n",
       "    overflow: hidden;\r\n",
       "    white-space: nowrap;\r\n",
       "}\r\n",
       ".dni-treeview {\r\n",
       "    white-space: nowrap;\r\n",
       "}\r\n",
       ".dni-treeview td {\r\n",
       "    vertical-align: top;\r\n",
       "    text-align: start;\r\n",
       "}\r\n",
       "details.dni-treeview {\r\n",
       "    padding-left: 1em;\r\n",
       "}\r\n",
       "table td {\r\n",
       "    text-align: start;\r\n",
       "}\r\n",
       "table tr { \r\n",
       "    vertical-align: top; \r\n",
       "    margin: 0em 0px;\r\n",
       "}\r\n",
       "table tr td pre \r\n",
       "{ \r\n",
       "    vertical-align: top !important; \r\n",
       "    margin: 0em 0px !important;\r\n",
       "} \r\n",
       "table th {\r\n",
       "    text-align: start;\r\n",
       "}\r\n",
       "</style>"
      ]
     },
     "execution_count": 18,
     "metadata": {},
     "output_type": "execute_result"
    }
   ],
   "source": [
    "// Check status\n",
    "var job = client.GetJobForId(livePredictionResult.Id);\n",
    "job"
   ]
  },
  {
   "cell_type": "markdown",
   "id": "75e2af86-3ceb-4489-b872-98e0609b906c",
   "metadata": {},
   "source": [
    "After the job prediction is made, user can also load the result without redo the training with the following code. The key parameter is `rebalanceDate`."
   ]
  },
  {
   "cell_type": "code",
   "execution_count": 19,
   "id": "f55b35a8-7fa6-42fb-aec0-bd805ae7b3c7",
   "metadata": {
    "tags": [],
    "vscode": {
     "languageId": "csharp"
    }
   },
   "outputs": [
    {
     "data": {
      "text/html": [
       "<table><thead><tr><th><i>key</i></th><th>value</th></tr></thead><tbody><tr><td><span>2022-07-01 00:00:00Z</span></td><td><table><thead><tr><th><i>key</i></th><th>value</th></tr></thead><tbody><tr><td><div class=\"dni-plaintext\"><pre>SPY</pre></div></td><td><div class=\"dni-plaintext\"><pre>0</pre></div></td></tr><tr><td><div class=\"dni-plaintext\"><pre>QQQ</pre></div></td><td><div class=\"dni-plaintext\"><pre>0</pre></div></td></tr><tr><td><div class=\"dni-plaintext\"><pre>VNQ</pre></div></td><td><div class=\"dni-plaintext\"><pre>0</pre></div></td></tr><tr><td><div class=\"dni-plaintext\"><pre>REM</pre></div></td><td><div class=\"dni-plaintext\"><pre>0</pre></div></td></tr><tr><td><div class=\"dni-plaintext\"><pre>IEF</pre></div></td><td><div class=\"dni-plaintext\"><pre>0</pre></div></td></tr><tr><td><div class=\"dni-plaintext\"><pre>TLT</pre></div></td><td><div class=\"dni-plaintext\"><pre>0</pre></div></td></tr></tbody></table></td></tr></tbody></table><style>\r\n",
       ".dni-code-hint {\r\n",
       "    font-style: italic;\r\n",
       "    overflow: hidden;\r\n",
       "    white-space: nowrap;\r\n",
       "}\r\n",
       ".dni-treeview {\r\n",
       "    white-space: nowrap;\r\n",
       "}\r\n",
       ".dni-treeview td {\r\n",
       "    vertical-align: top;\r\n",
       "    text-align: start;\r\n",
       "}\r\n",
       "details.dni-treeview {\r\n",
       "    padding-left: 1em;\r\n",
       "}\r\n",
       "table td {\r\n",
       "    text-align: start;\r\n",
       "}\r\n",
       "table tr { \r\n",
       "    vertical-align: top; \r\n",
       "    margin: 0em 0px;\r\n",
       "}\r\n",
       "table tr td pre \r\n",
       "{ \r\n",
       "    vertical-align: top !important; \r\n",
       "    margin: 0em 0px !important;\r\n",
       "} \r\n",
       "table th {\r\n",
       "    text-align: start;\r\n",
       "}\r\n",
       "</style>"
      ]
     },
     "execution_count": 19,
     "metadata": {},
     "output_type": "execute_result"
    }
   ],
   "source": [
    "var weightsByDate = client.GetLivePredictionWeights(\n",
    "    portfolioParameters, \n",
    "    rebalanceDate: new DateTime(2022, 07, 01),\n",
    "    debug: \"debug\");\n",
    "weightsByDate"
   ]
  }
 ],
 "metadata": {
  "kernelspec": {
   "display_name": ".NET (C#)",
   "language": "C#",
   "name": ".net-csharp"
  },
  "language_info": {
   "file_extension": ".cs",
   "mimetype": "text/x-csharp",
   "name": "C#",
   "pygments_lexer": "csharp",
   "version": "12.0"
  }
 },
 "nbformat": 4,
 "nbformat_minor": 5
}
